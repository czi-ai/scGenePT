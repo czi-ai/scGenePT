{
 "cells": [
  {
   "cell_type": "markdown",
   "metadata": {
    "id": "_8B3Qjzdw23t"
   },
   "source": [
    "# scGenePT Perturbation Prediction Tutorial \n",
    "\n",
    "<a id = 'introduction'></a>\n",
    "Last Updated: [11/14/2024] This notebook offers examples of how to use trained scGenePT models in inference mode for perturbation prediction. It uses models fine-tuned on the **Norman [1] dataset** and offers examples of predicting post-perturbation expression responses for **single gene perturbations**: POU3F2, CDKN1B and **gene combinations**: SAMD1+ZBTB1. Models have not been evaluated on multiple gene combination perturbation responses, so behavior is unknown. \n",
    "\n",
    "**Model** : scGenePT is a collection of single-cell models for perturbation prediction. It leverages the [scGPT](https://github.com/bowang-lab/scGPT) [2] foundation model for scRNAseq data by injecting language embeddings at the gene level into the model architecture. The language gene embeddings are obtained by embedding gene level information from different knowledge sources using LLMs. The knowledge sources used include NCBI gene descriptions, UniProt protein Summaries for protein coding genes - as inspired by the [genePT](https://github.com/yiqunchen/GenePT) [3] approach - and GO (Gene Ontology) Gene Molecular Annotations, across three different axes: Molecular Function, Biological Process and Cellular Component. The model variations available are:\n",
    "- **scGenePT_NCBI** = scGPT + NCBI Gene Card Summaries\n",
    "- **scGenePT_NCBI+UniProt** = scGPT + NCBI Gene Card Summaries + UniProt Protein Summaries\n",
    "- **scGenePT_GO−F** = scGPT + GO Molecular Functions Annotations\n",
    "- **scGenePT_GO−C** = scGPT + GO Cellular Components Annotations\n",
    "- **scGenePT_GO−P** = scGPT + GO Biological Processes Annotations\n",
    "- **scGenePT+GO−all** = scGPT + GO_F + GO_C + GO_P\n",
    "\n",
    "**Dataset**: The Norman Dataset [1] is a CRISPR perturb-seq dataset containing single and two-gene perturbations. We use a processed version of the dataset that contains 105 single and 131 two-gene combinations perturbations coming from 91k observations. Cells in the dataset are log-normalized and filtered to the top 5000 highly variable genes. Models in ths notebook are trained on the train split of the dataset. We offer examples of:\n",
    "- performing inference on the test split of the Norman dataset\n",
    "- performing inference on a random control sample and on a new anndata file\n",
    "\n",
    "**The notebook is structured and offers the following examples**:\n",
    "1. [Perturbation prediction](#perturbation_prediction)\n",
    "    - [Load the Norman dataset](#load_dataset)\n",
    "    - [Load a trained scGenePT model](#load_trained_scgenept_model)\n",
    "2. [Plotting the top 20 Differentially Expressed Genes post-perturbation](#plot_top_20_de)\n",
    "    - [Predicting perturbation response for perturbing the POU3F2 gene using a scGenePT_GO−C model](#example_POU3F2+ctrl)\n",
    "    - [Predicting perturbation response for perturbing the CDKN1B gene using a scGenePT_GO−C model](#example_CDKN1B+ctrl)\n",
    "    - [Predicting perturbation response for perturbing the SAMD1+ZBTB1 gene combination using a scGenePT_NCBI+UniProt model](#example_SAMD1+ZBTB1) \n",
    "3. [Perturbation prediction on NumPy arrays holding control samples](#prediction_on_rnd_ctrl)\n",
    "4. [Perturbation prediction on AnnData files](#prediction_on_new_anndata_file)\n",
    "\n",
    "<!-- **The full list of resources available is**:\n",
    "1. [bioRxiv Preprint](https://www.biorxiv.org/content/10.1101/2024.10.23.619972v1)\n",
    "2. [scGenePT Trained Model Weights](https://drive.google.com/drive/u/0/folders/12h1hL3cJF3W0VG92JqGJ1-4R-2nDXbzc)\n",
    "3. [Gene Embeddings, computed using LLMs](https://drive.google.com/drive/folders/191d8uXaoUNvvZ8DZHzlR1O6BK9vLnqqy?usp=drive_link) <br>\n",
    "• NCBI Gene Card summaries, NCBI Gene Card Summaries + UniProt Protein Summaries <br>\n",
    "• GO-C Cellular Components Gene Annotations, GO-F Molecular Function Gene Annotations, GO-P Biological Process Gene Annotations, GO-all (GO-C + GO-F + GO-P) -->"
   ]
  },
  {
   "cell_type": "markdown",
   "metadata": {
    "id": "dEFliUdPxthd"
   },
   "source": [
    "## Setup"
   ]
  },
  {
   "cell_type": "markdown",
   "metadata": {},
   "source": [
    "**Prerequisites and hardware requirements**\n",
    "\n",
    "1. The notebook must run inside a virtual env containing the needed packages. If you already created one, then you can skip this step. If you haven't, you must create one. First, you'll need to clone the repo through: <br>\n",
    "\n",
    "```\n",
    "git clone git@github.com:czi-ai/scGenePT.git\n",
    "```\n",
    "\n",
    "\n",
    "Then you need to create a virtual environment containing the model packaging dependencies. The `requirements.txt` file is under the repo.\n",
    "\n",
    "```python\n",
    "conda create -y --name scgenept python=3.10\n",
    "source activate scgenept\n",
    "pip install -r requirements.txt\n",
    "pip install flash-attn --no-build-isolation\n",
    "pip install scgpt \"flash-attn<1.0.5\"\n",
    "```\n",
    "\n",
    "2. Once you have a venv created, activate it and allow the jupyter notebook to use it as a kernel by running the following command from the terminal. If jupyter is not installed, it should be:\n",
    "```python\n",
    "source activate scgenept\n",
    "pip install ipykernel\n",
    "pip install jupyter\n",
    "python -m ipykernel install --user --name=scgenept\n",
    "```\n",
    "\n",
    "3. Open the jupyter notebook. You should now be able to see and select a new kernel: scgenept. The notebook needs to be ran inside this kernel in order for all packages to be properly installed.\n",
    "\n",
    "**Model and Data**\n",
    "\n",
    "These steps are also described under the [GitHub README](https://github.com/czi-ai/scGenePT/blob/main/README.md): \n",
    "- **Download Gene Embeddings** - the gene embeddings files should be under `models/gene_embeddings` - you only need to download the gene embeddings of the models you are interested in. In this tutorial, we will focus on **scGenePT_GO−C** and **scGenePT_NCBI+UniProt**, so you need to download:\n",
    "    - GO_C_gene_embeddings-gpt3.5-ada-concat.pickle | [Download Link](https://drive.google.com/file/d/1oGnxs56GqGQA5gaocg4uPf_UwtomJ0Tp/view?usp=drive_link)\n",
    "    - NCBI+UniProt_embeddings-gpt3.5-ada.pkl | [Download Link](https://drive.google.com/file/d/1EyuQwY8B3DU3W2VBuiBSoJiJw7KHntu4/view?usp=drive_link)\n",
    "- **Download Trained scGenePT models from the scGenePT Model Zoo** - they should be under `models/finetuned` for the purpose of this tutorial, we need the following models:\n",
    "    - scgenept_go_c/norman/best_model_gpt3.5_ada_rnd_seed_42_concat.pt | [Download Link](https://drive.google.com/file/d/17tsBhTkuEw1uwTSvsK9Hskq3px_3MIQU/view?usp=drive_link)\n",
    "    - scgenept_ncbi+uniprot/best_model_gpt3.5_ada_rnd_seed_42.pt | [Download Link](https://drive.google.com/file/d/1w7lGESKGzYRzuHSOaUwJj0ALyiFADxYi/view?usp=drive_link)\n",
    "Note that you can download all finetuned models from [this link](https://drive.google.com/drive/folders/1U9PodoV7A-Dkk-GemmLB_AzmkgE-owp_?usp=drive_link).\n",
    "\n",
    "**Your folder structure should now look something like**:\n",
    "\n",
    "```\n",
    "- models\n",
    "    - pretrained\n",
    "        - scgpt/vocab.json\n",
    "    - gene_embeddings\n",
    "        - GO_C_gene_embeddings-gpt3.5-ada-concat.pickle\n",
    "        - NCBI+UniProt_embeddings-gpt3.5-ada.pkl\n",
    "    - finetuned\n",
    "        - scgenept_go_c/norman/best_model_gpt3.5_ada_rnd_seed_42_concat.pt\n",
    "        - scgenept_ncbi+uniprot/norman/best_model_gpt3.5_ada_rnd_seed_42_concat.pt\n",
    "- tutorials\n",
    "    - scgenept_tutorial.ipynb\n",
    "```"
   ]
  },
  {
   "cell_type": "code",
   "execution_count": 1,
   "metadata": {
    "id": "aNSqZsf2xwlg"
   },
   "outputs": [
    {
     "name": "stderr",
     "output_type": "stream",
     "text": [
      "/opt/jupyter-envs/lang-generative-single-cell/aistrate-8gpu-3/conda/envs/scgenept-new/lib/python3.10/site-packages/tqdm/auto.py:21: TqdmWarning: IProgress not found. Please update jupyter and ipywidgets. See https://ipywidgets.readthedocs.io/en/stable/user_install.html\n",
      "  from .autonotebook import tqdm as notebook_tqdm\n",
      "/opt/jupyter-envs/lang-generative-single-cell/aistrate-8gpu-3/conda/envs/scgenept-new/lib/python3.10/site-packages/einops/_torch_specific.py:109: ImportWarning: allow_ops_in_compiled_graph failed to import torch: ensure pytorch >=2.0\n",
      "  warnings.warn(\"allow_ops_in_compiled_graph failed to import torch: ensure pytorch >=2.0\", ImportWarning)\n"
     ]
    }
   ],
   "source": [
    "import sys\n",
    "sys.path.insert(1, '../')\n",
    "\n",
    "from train import load_dataloader\n",
    "from utils.data_loading import *\n",
    "from models.scGenePT import *\n",
    "from sklearn.decomposition import PCA\n",
    "import matplotlib.pyplot as plt\n",
    "from gears.inference import evaluate, compute_metrics, deeper_analysis, non_dropout_analysis"
   ]
  },
  {
   "cell_type": "markdown",
   "metadata": {
    "id": "AMtC5qMd44Mu"
   },
   "source": [
    "<a id='perturbation prediction'></a>\n",
    "## 1. Perturbation Prediction using a trained scGenePT model"
   ]
  },
  {
   "cell_type": "markdown",
   "metadata": {},
   "source": [
    "<a id='load_dataset'></a>\n",
    "### Load dataset\n",
    "We start by loading the Norman dataset. The dataloaders use a pre-processed version of Norman from [GEARS](https://github.com/snap-stanford/GEARS) [3]. Models in this notebook have been finetuned on the train split of this dataset. We also showcase how to perform inference on the test split of this dataset. "
   ]
  },
  {
   "cell_type": "code",
   "execution_count": 2,
   "metadata": {},
   "outputs": [
    {
     "name": "stderr",
     "output_type": "stream",
     "text": [
      "Found local copy...\n",
      "Local copy of pyg dataset is detected. Loading...\n",
      "Done!\n",
      "Local copy of split is detected. Loading...\n",
      "Simulation split test composition:\n",
      "combo_seen0:9\n",
      "combo_seen1:52\n",
      "combo_seen2:18\n",
      "unseen_single:37\n",
      "Done!\n",
      "Creating dataloaders....\n",
      "Done!\n"
     ]
    }
   ],
   "source": [
    "# Has been tested with 'norman' and 'adamson'\n",
    "dataset_name = 'norman' \n",
    "batch_size = 64\n",
    "eval_batch_size = 64\n",
    "\n",
    "pert_data = load_dataloader(dataset_name, batch_size, eval_batch_size, split = 'simulation')\n",
    "train_loader = pert_data.dataloader['train_loader']\n",
    "val_loader = pert_data.dataloader['val_loader']\n",
    "test_loader = pert_data.dataloader['test_loader']"
   ]
  },
  {
   "cell_type": "markdown",
   "metadata": {},
   "source": [
    "<a id='dataset_exploration'></a>\n",
    "### Dataset Exploration"
   ]
  },
  {
   "cell_type": "markdown",
   "metadata": {},
   "source": [
    "We can examine the data inside the dataloaders. The `pert_data.adata` is an AnnData object containing gene expression counts and additional information."
   ]
  },
  {
   "cell_type": "code",
   "execution_count": 3,
   "metadata": {},
   "outputs": [
    {
     "data": {
      "text/plain": [
       "AnnData object with n_obs × n_vars = 91205 × 5045\n",
       "    obs: 'condition', 'cell_type', 'dose_val', 'control', 'condition_name'\n",
       "    var: 'gene_name'\n",
       "    uns: 'non_dropout_gene_idx', 'non_zeros_gene_idx', 'rank_genes_groups_cov_all', 'top_non_dropout_de_20', 'top_non_zero_de_20'\n",
       "    layers: 'counts'"
      ]
     },
     "execution_count": 3,
     "metadata": {},
     "output_type": "execute_result"
    }
   ],
   "source": [
    "pert_data.adata"
   ]
  },
  {
   "cell_type": "markdown",
   "metadata": {},
   "source": [
    "The gene expression counts are stored in `pert_adata.adata.X`, where each entry (i, j) entry corresponds to the gene expression counts of gene j in row i"
   ]
  },
  {
   "cell_type": "code",
   "execution_count": 4,
   "metadata": {},
   "outputs": [
    {
     "data": {
      "text/plain": [
       "<Compressed Sparse Row sparse matrix of dtype 'float32'\n",
       "\twith 37317477 stored elements and shape (91205, 5045)>"
      ]
     },
     "execution_count": 4,
     "metadata": {},
     "output_type": "execute_result"
    }
   ],
   "source": [
    "pert_data.adata.X # 902105 cells, 5045 genes"
   ]
  },
  {
   "cell_type": "markdown",
   "metadata": {},
   "source": [
    "The `pert_data.adata.obs` file contains information about the different perturbation conditions applied to the data stored in .X. For instance, below we can see examples of 1-gene perturbations: *TSC22D1+ctrl, MAML2+ctrl*, etc, examples of 2-gene perturbations: *KLF1+MAP2K6, CEBPE+RUNX1T1*, and examples of control samples. Each of the conditions corresponds to gene expression counts stored in .X."
   ]
  },
  {
   "cell_type": "code",
   "execution_count": 5,
   "metadata": {},
   "outputs": [
    {
     "data": {
      "text/html": [
       "<div>\n",
       "<style scoped>\n",
       "    .dataframe tbody tr th:only-of-type {\n",
       "        vertical-align: middle;\n",
       "    }\n",
       "\n",
       "    .dataframe tbody tr th {\n",
       "        vertical-align: top;\n",
       "    }\n",
       "\n",
       "    .dataframe thead th {\n",
       "        text-align: right;\n",
       "    }\n",
       "</style>\n",
       "<table border=\"1\" class=\"dataframe\">\n",
       "  <thead>\n",
       "    <tr style=\"text-align: right;\">\n",
       "      <th></th>\n",
       "      <th>condition</th>\n",
       "      <th>cell_type</th>\n",
       "      <th>dose_val</th>\n",
       "      <th>control</th>\n",
       "      <th>condition_name</th>\n",
       "    </tr>\n",
       "    <tr>\n",
       "      <th>cell_barcode</th>\n",
       "      <th></th>\n",
       "      <th></th>\n",
       "      <th></th>\n",
       "      <th></th>\n",
       "      <th></th>\n",
       "    </tr>\n",
       "  </thead>\n",
       "  <tbody>\n",
       "    <tr>\n",
       "      <th>AAACCTGAGGCATGTG-1</th>\n",
       "      <td>TSC22D1+ctrl</td>\n",
       "      <td>A549</td>\n",
       "      <td>1+1</td>\n",
       "      <td>0</td>\n",
       "      <td>A549_TSC22D1+ctrl_1+1</td>\n",
       "    </tr>\n",
       "    <tr>\n",
       "      <th>AAACCTGAGGCCCTTG-1</th>\n",
       "      <td>KLF1+MAP2K6</td>\n",
       "      <td>A549</td>\n",
       "      <td>1+1</td>\n",
       "      <td>0</td>\n",
       "      <td>A549_KLF1+MAP2K6_1+1</td>\n",
       "    </tr>\n",
       "    <tr>\n",
       "      <th>AAACCTGCACGAAGCA-1</th>\n",
       "      <td>ctrl</td>\n",
       "      <td>A549</td>\n",
       "      <td>1</td>\n",
       "      <td>1</td>\n",
       "      <td>A549_ctrl_1</td>\n",
       "    </tr>\n",
       "    <tr>\n",
       "      <th>AAACCTGCAGACGTAG-1</th>\n",
       "      <td>CEBPE+RUNX1T1</td>\n",
       "      <td>A549</td>\n",
       "      <td>1+1</td>\n",
       "      <td>0</td>\n",
       "      <td>A549_CEBPE+RUNX1T1_1+1</td>\n",
       "    </tr>\n",
       "    <tr>\n",
       "      <th>AAACCTGCAGCCTTGG-1</th>\n",
       "      <td>MAML2+ctrl</td>\n",
       "      <td>A549</td>\n",
       "      <td>1+1</td>\n",
       "      <td>0</td>\n",
       "      <td>A549_MAML2+ctrl_1+1</td>\n",
       "    </tr>\n",
       "    <tr>\n",
       "      <th>...</th>\n",
       "      <td>...</td>\n",
       "      <td>...</td>\n",
       "      <td>...</td>\n",
       "      <td>...</td>\n",
       "      <td>...</td>\n",
       "    </tr>\n",
       "    <tr>\n",
       "      <th>TTTGTCAGTCATGCAT-8</th>\n",
       "      <td>RHOXF2BB+SET</td>\n",
       "      <td>A549</td>\n",
       "      <td>1+1</td>\n",
       "      <td>0</td>\n",
       "      <td>A549_RHOXF2BB+SET_1+1</td>\n",
       "    </tr>\n",
       "    <tr>\n",
       "      <th>TTTGTCATCAGTACGT-8</th>\n",
       "      <td>FOXA3+ctrl</td>\n",
       "      <td>A549</td>\n",
       "      <td>1+1</td>\n",
       "      <td>0</td>\n",
       "      <td>A549_FOXA3+ctrl_1+1</td>\n",
       "    </tr>\n",
       "    <tr>\n",
       "      <th>TTTGTCATCCACTCCA-8</th>\n",
       "      <td>CELF2+ctrl</td>\n",
       "      <td>A549</td>\n",
       "      <td>1+1</td>\n",
       "      <td>0</td>\n",
       "      <td>A549_CELF2+ctrl_1+1</td>\n",
       "    </tr>\n",
       "    <tr>\n",
       "      <th>TTTGTCATCCCAACGG-8</th>\n",
       "      <td>BCORL1+ctrl</td>\n",
       "      <td>A549</td>\n",
       "      <td>1+1</td>\n",
       "      <td>0</td>\n",
       "      <td>A549_BCORL1+ctrl_1+1</td>\n",
       "    </tr>\n",
       "    <tr>\n",
       "      <th>TTTGTCATCTGGCGAC-8</th>\n",
       "      <td>MAP4K3+ctrl</td>\n",
       "      <td>A549</td>\n",
       "      <td>1+1</td>\n",
       "      <td>0</td>\n",
       "      <td>A549_MAP4K3+ctrl_1+1</td>\n",
       "    </tr>\n",
       "  </tbody>\n",
       "</table>\n",
       "<p>91205 rows × 5 columns</p>\n",
       "</div>"
      ],
      "text/plain": [
       "                        condition cell_type dose_val  control  \\\n",
       "cell_barcode                                                    \n",
       "AAACCTGAGGCATGTG-1   TSC22D1+ctrl      A549      1+1        0   \n",
       "AAACCTGAGGCCCTTG-1    KLF1+MAP2K6      A549      1+1        0   \n",
       "AAACCTGCACGAAGCA-1           ctrl      A549        1        1   \n",
       "AAACCTGCAGACGTAG-1  CEBPE+RUNX1T1      A549      1+1        0   \n",
       "AAACCTGCAGCCTTGG-1     MAML2+ctrl      A549      1+1        0   \n",
       "...                           ...       ...      ...      ...   \n",
       "TTTGTCAGTCATGCAT-8   RHOXF2BB+SET      A549      1+1        0   \n",
       "TTTGTCATCAGTACGT-8     FOXA3+ctrl      A549      1+1        0   \n",
       "TTTGTCATCCACTCCA-8     CELF2+ctrl      A549      1+1        0   \n",
       "TTTGTCATCCCAACGG-8    BCORL1+ctrl      A549      1+1        0   \n",
       "TTTGTCATCTGGCGAC-8    MAP4K3+ctrl      A549      1+1        0   \n",
       "\n",
       "                            condition_name  \n",
       "cell_barcode                                \n",
       "AAACCTGAGGCATGTG-1   A549_TSC22D1+ctrl_1+1  \n",
       "AAACCTGAGGCCCTTG-1    A549_KLF1+MAP2K6_1+1  \n",
       "AAACCTGCACGAAGCA-1             A549_ctrl_1  \n",
       "AAACCTGCAGACGTAG-1  A549_CEBPE+RUNX1T1_1+1  \n",
       "AAACCTGCAGCCTTGG-1     A549_MAML2+ctrl_1+1  \n",
       "...                                    ...  \n",
       "TTTGTCAGTCATGCAT-8   A549_RHOXF2BB+SET_1+1  \n",
       "TTTGTCATCAGTACGT-8     A549_FOXA3+ctrl_1+1  \n",
       "TTTGTCATCCACTCCA-8     A549_CELF2+ctrl_1+1  \n",
       "TTTGTCATCCCAACGG-8    A549_BCORL1+ctrl_1+1  \n",
       "TTTGTCATCTGGCGAC-8    A549_MAP4K3+ctrl_1+1  \n",
       "\n",
       "[91205 rows x 5 columns]"
      ]
     },
     "execution_count": 5,
     "metadata": {},
     "output_type": "execute_result"
    }
   ],
   "source": [
    "pert_data.adata.obs # perturbation conditions applied to the 902105 cells"
   ]
  },
  {
   "cell_type": "markdown",
   "metadata": {},
   "source": [
    "The `pert_data.adata.var` gives us the set of genes:"
   ]
  },
  {
   "cell_type": "code",
   "execution_count": 6,
   "metadata": {},
   "outputs": [
    {
     "name": "stdout",
     "output_type": "stream",
     "text": [
      "There are 5045 number of genes present in the dataset.\n"
     ]
    },
    {
     "data": {
      "text/html": [
       "<div>\n",
       "<style scoped>\n",
       "    .dataframe tbody tr th:only-of-type {\n",
       "        vertical-align: middle;\n",
       "    }\n",
       "\n",
       "    .dataframe tbody tr th {\n",
       "        vertical-align: top;\n",
       "    }\n",
       "\n",
       "    .dataframe thead th {\n",
       "        text-align: right;\n",
       "    }\n",
       "</style>\n",
       "<table border=\"1\" class=\"dataframe\">\n",
       "  <thead>\n",
       "    <tr style=\"text-align: right;\">\n",
       "      <th></th>\n",
       "      <th>gene_name</th>\n",
       "    </tr>\n",
       "    <tr>\n",
       "      <th>gene_id</th>\n",
       "      <th></th>\n",
       "    </tr>\n",
       "  </thead>\n",
       "  <tbody>\n",
       "    <tr>\n",
       "      <th>ENSG00000239945</th>\n",
       "      <td>RP11-34P13.8</td>\n",
       "    </tr>\n",
       "    <tr>\n",
       "      <th>ENSG00000223764</th>\n",
       "      <td>RP11-54O7.3</td>\n",
       "    </tr>\n",
       "    <tr>\n",
       "      <th>ENSG00000187634</th>\n",
       "      <td>SAMD11</td>\n",
       "    </tr>\n",
       "    <tr>\n",
       "      <th>ENSG00000187642</th>\n",
       "      <td>PERM1</td>\n",
       "    </tr>\n",
       "    <tr>\n",
       "      <th>ENSG00000188290</th>\n",
       "      <td>HES4</td>\n",
       "    </tr>\n",
       "  </tbody>\n",
       "</table>\n",
       "</div>"
      ],
      "text/plain": [
       "                    gene_name\n",
       "gene_id                      \n",
       "ENSG00000239945  RP11-34P13.8\n",
       "ENSG00000223764   RP11-54O7.3\n",
       "ENSG00000187634        SAMD11\n",
       "ENSG00000187642         PERM1\n",
       "ENSG00000188290          HES4"
      ]
     },
     "execution_count": 6,
     "metadata": {},
     "output_type": "execute_result"
    }
   ],
   "source": [
    "print(f'There are {len(pert_data.adata.var)} number of genes present in the dataset.')\n",
    "pert_data.adata.var.head() # the names of the 5045 genes"
   ]
  },
  {
   "cell_type": "markdown",
   "metadata": {},
   "source": [
    "<a id='load_trained_scgenept'></a>\n",
    "### Load trained scGenePT models\n",
    "\n",
    "In this section, we show examples of loading multiple scGenePT models for prediction in order to compare them. All the models under the scGenePT Model Zoo can be found under [GitHub repo](https://github.com/czi-ai/scGenePT/) and the trained model weights under [this GDrive link](https://drive.google.com/drive/folders/1U9PodoV7A-Dkk-GemmLB_AzmkgE-owp_?usp=drive_link)<br>\n",
    "\n",
    "Here, we load the following:\n",
    "- **scGPT** = scGPT model | [Download Link](https://drive.google.com/file/d/1OzTVmj24k_QrLAwKkwv8Q6SNW4yDcW00/view?usp=drive_link)\n",
    "- **scGenePT_NCBI+UniProt** = scGPT + NCBI Gene Card Summaries + UniProt Protein Summaries | [Download Link](https://drive.google.com/file/d/17tsBhTkuEw1uwTSvsK9Hskq3px_3MIQU/view?usp=drive_link)\n",
    "- **scGenePT_GO−C** = scGPT + GO Cellular Components Annotations | [Download Link](https://drive.google.com/file/d/17tsBhTkuEw1uwTSvsK9Hskq3px_3MIQU/view?usp=drive_link)\n",
    "\n",
    "Note that models are assumed to be under the `models/finetuned/{dataset_name}/{model_type}/best_model_seed_42.pt` folder\n",
    "\n",
    "\n",
    "**Once the Google Drive files are public, this section should use gdown to automatically download the data under the right folder structure**"
   ]
  },
  {
   "cell_type": "code",
   "execution_count": 7,
   "metadata": {},
   "outputs": [],
   "source": [
    "def load_trained_scgenept_model(pert_data, model_type, models_dir, model_location, device, verbose = False):\n",
    "    embs_to_include = get_embs_to_include(model_type)\n",
    "    vocab_file = models_dir + 'pretrained/scgpt/vocab.json'\n",
    "    vocab, gene_ids, dataset_genes, gene2idx = match_genes_to_scgpt_vocab(vocab_file, pert_data, True, SPECIAL_TOKENS)\n",
    "    ntokens = len(vocab)  # size of vocabulary\n",
    "    genept_embs, genept_emb_type, genept_emb_dim, found_genes_genept = initialize_genept_embeddings(embs_to_include, dataset_genes, vocab, model_type, models_dir)\n",
    "    go_embs_to_include, go_emb_type, go_emb_dim, found_genes_go = initialize_go_embeddings(embs_to_include, dataset_genes, vocab, model_type, models_dir)\n",
    "    \n",
    "    model = scGenePT(\n",
    "        ntoken=ntokens,\n",
    "        d_model=EMBSIZE,\n",
    "        nhead=NHEAD,\n",
    "        d_hid=D_HID,\n",
    "        nlayers=NLAYERS,\n",
    "        nlayers_cls=N_LAYERS_CLS,\n",
    "        n_cls=N_CLS,\n",
    "        vocab=vocab,\n",
    "        n_perturbagens=2,\n",
    "        dropout=0.2,\n",
    "        pad_token=PAD_TOKEN,\n",
    "        pad_value=PAD_VALUE,\n",
    "        pert_pad_id=PERT_PAD_ID,\n",
    "        use_fast_transformer=True,\n",
    "        embs_to_include = embs_to_include,\n",
    "        genept_embs = genept_embs, \n",
    "        genept_emb_type = genept_emb_type, \n",
    "        genept_emb_size = genept_emb_dim,\n",
    "        go_embs_to_include = go_embs_to_include,\n",
    "        go_emb_type = go_emb_type,\n",
    "        go_emb_size = go_emb_dim\n",
    "    )\n",
    "    \n",
    "    model.load_state_dict(torch.load(model_location, weights_only=True))\n",
    "    if verbose:\n",
    "        print(model)\n",
    "    model.to(device)\n",
    "    return model, gene_ids"
   ]
  },
  {
   "cell_type": "code",
   "execution_count": 8,
   "metadata": {},
   "outputs": [
    {
     "name": "stdout",
     "output_type": "stream",
     "text": [
      "Using device cuda\n",
      "Now loading a scgenept_go_c_gpt_concat model ... \n",
      "==============================\n",
      "scGenePT model-type: scgenept_go_c_gpt_concat\n",
      "match 4547/5045 genes in vocabulary of size 60697.\n",
      "Using c GO embs\n",
      "Matched 2945 out of 5045 genes in the GenePT-w embedding\n",
      "Using the following embeddings:['GO_token_embs_gpt_concat', 'scGPT_counts_embs', 'scGPT_token_embs']\n",
      "Done!\n",
      "\n",
      "Now loading a scgenept_ncbi+uniprot_gpt model ... \n",
      "==============================\n",
      "scGenePT model-type: scgenept_ncbi+uniprot_gpt\n",
      "match 4547/5045 genes in vocabulary of size 60697.\n",
      "Using ncbi+uniprot genept embs, embedded with gpt\n",
      "Matched 3351 out of 5045 genes in the GenePT-w embedding\n",
      "Using the following embeddings:['scGPT_counts_embs', 'scGPT_token_embs', 'genePT_token_embs_gpt']\n",
      "Done!\n",
      "\n"
     ]
    }
   ],
   "source": [
    "device = torch.device(\"cuda\" if torch.cuda.is_available() else \"cpu\")\n",
    "print(f'Using device {device}')\n",
    "\n",
    "# Mapping from model name to the name of the model file model weights are saved\n",
    "# Note that if you want to experiment with only one or a couple of models only, not all models need to be downloaded\n",
    "model_name2model_variation = {'scgenept_ncbi+uniprot_gpt' : 'best_model_gpt3.5_ada_rnd_seed_42.pt',\n",
    "                    'scgenept_go_c_gpt_concat' : 'best_model_gpt3.5_ada_rnd_seed_42_concat.pt'}\n",
    "\n",
    "# To load all the models, uncomment this code and download the specific models from the GDrive link above\n",
    "# model_name2model_variation = {'scgpt' : 'best_model_seed_42.pt', \n",
    "#                     'scgenept_ncbi_gpt' : 'best_model_gpt3.5_ada_rnd_seed_42.pt',\n",
    "#                     'scgenept_ncbi+uniprot_gpt' : 'best_model_gpt3.5_ada_rnd_seed_42.pt',\n",
    "#                     'scgenept_go_c_gpt_concat' : 'best_model_gpt3.5_ada_rnd_seed_42_concat.pt',\n",
    "#                     'scgenept_go_f_gpt_concat' : 'best_model_gpt3.5_ada_rnd_seed_42_concat.pt',\n",
    "#                     'scgenept_go_p_gpt_concat' : 'best_model_gpt3.5_ada_rnd_seed_42_concat.pt',\n",
    "#                     'scgenept_go_all_gpt_concat' : 'best_model_gpt3.5_ada_rnd_seed_42_concat.pt'}\n",
    "\n",
    "# Names of the scGenePT models to load. Note that these have to match the keys in the model_name2model_variation dict\n",
    "models = ['scgenept_go_c_gpt_concat', 'scgenept_ncbi+uniprot_gpt']\n",
    "# models = ['scgpt',  'scgenept_go_c_gpt_concat', 'scgenept_go_p_gpt_concat', 'scgenept_go_f_gpt_concat', 'scgenept_go_all_gpt_concat', 'scgenept_ncbi_gpt', 'scgenept_ncbi+uniprot_gpt']\n",
    "trained_models = {}\n",
    "\n",
    "# Location of where the pretrained scGPT model and gene embeddings are located\n",
    "pretrained_scgpt_model_dir = '../models/'\n",
    "\n",
    "for model_name in models:\n",
    "    print(f\"Now loading a {model_name} model ... \")\n",
    "    print('=' * 30)\n",
    "    model_filename = model_name2model_variation[model_name]\n",
    "    if model_name != 'scgpt':\n",
    "        model_prefix = ''.join(model_name.split('_gpt')[:-1]) \n",
    "    else:\n",
    "        model_prefix = model_name\n",
    "    model_location =  f'../models/finetuned/{model_prefix}/{dataset_name}/{model_filename}'\n",
    "    model, gene_ids =  load_trained_scgenept_model(pert_data, model_name, pretrained_scgpt_model_dir, model_location, device)\n",
    "    print('Done!\\n')\n",
    "    trained_models[model_name] = model"
   ]
  },
  {
   "cell_type": "markdown",
   "metadata": {
    "id": "FSyVsAnf5RaD"
   },
   "source": [
    "<a id='plot_top_20_de'></a>\n",
    "## 2. Plot the Top Differentially Expressed Genes post-perturbation\n",
    "We can use the trained models to perform inference. Below, we offer an example of how to do this on the test split of the Norman dataset - this is novel data the model has not been trained on. The same workflow/analyses can be applied to other data to get similar insights. For instance, in the following sections we offer examples of performing inference  on completely new data, either in numpy or anndata form.\n",
    "\n",
    "We explore the following scenarios and showcase how to plot the top differentially expressed genes post-perturbation for: <br>\n",
    "• **single-gene perturbation**: predicting the effects of perturbing the POU3F2 gene and the CDKN1B gene individually. We offer examples of comparing scGPT with scGenePT_GO−C model predictions <br>\n",
    "• **two-gene perturbation**: predicting the effect of perturbing the SAMD1+ZBTB1 genes simultaneously. We offer an example of comparing scGPT and scGenePT_NCBI+UniProt model predictions"
   ]
  },
  {
   "cell_type": "code",
   "execution_count": 9,
   "metadata": {},
   "outputs": [],
   "source": [
    "def plot_perturbation(\n",
    "    model: nn.Module, query: str, model_type, color, marker, title, save_file: str = None, amp = True, pool_size: int = None\n",
    "):\n",
    "    import seaborn as sns\n",
    "    import numpy as np\n",
    "    import matplotlib.pyplot as plt\n",
    "\n",
    "    sns.set_theme(style=\"ticks\", rc={\"axes.facecolor\": (0, 0, 0, 0)}, font_scale=1.5)\n",
    "\n",
    "    adata = pert_data.adata\n",
    "    adata_ctrl = adata[adata.obs['condition'] == 'ctrl']\n",
    "    gene_names = pert_data.gene_names.to_list()\n",
    "    \n",
    "    gene2idx = pert_data.node_map\n",
    "    cond2name = dict(adata.obs[[\"condition\", \"condition_name\"]].values)\n",
    "    gene_raw2id = dict(zip(adata.var.index.values, adata.var.gene_name.values))\n",
    "\n",
    "    de_idx = [\n",
    "        gene2idx[gene_raw2id[i]]\n",
    "        for i in adata.uns[\"top_non_zero_de_20\"][cond2name[query]]\n",
    "    ]\n",
    "    genes = [\n",
    "        gene_raw2id[i] for i in adata.uns[\"top_non_zero_de_20\"][cond2name[query]]\n",
    "    ]\n",
    "    truth = adata[adata.obs.condition == query].X.toarray()[:, de_idx]\n",
    "    pred = model.pred_perturb_from_ctrl(adata_ctrl, query, gene_names, device, gene_ids, amp, pool_size).squeeze()[de_idx]\n",
    "    ctrl_means = adata[adata.obs[\"condition\"] == \"ctrl\"].to_df().mean()[de_idx].values\n",
    "\n",
    "    pred = pred - ctrl_means\n",
    "    truth = truth - ctrl_means\n",
    "\n",
    "    plt.figure(figsize=[16.5, 4.5])\n",
    "    plt.title(title + '\\n' + query)\n",
    "    plt.boxplot(truth, showfliers=False, medianprops=dict(linewidth=0))\n",
    "\n",
    "    for i in range(pred.shape[0]):\n",
    "        _ = plt.scatter(i + 1, pred[i], color=color, marker=marker)\n",
    "\n",
    "    plt.axhline(0, linestyle=\"dashed\", color=\"green\")\n",
    "\n",
    "    ax = plt.gca()\n",
    "    ax.xaxis.set_ticklabels(genes, rotation=90)\n",
    "\n",
    "    plt.ylabel(\"Change in Gene Expression over Control\", labelpad=10)\n",
    "    plt.tick_params(axis=\"x\", which=\"major\", pad=5)\n",
    "    plt.tick_params(axis=\"y\", which=\"major\", pad=5)\n",
    "    sns.despine()"
   ]
  },
  {
   "cell_type": "markdown",
   "metadata": {},
   "source": [
    "Before we perform predictions, we can explore the test split of the Norman dataset in more detail. We are interested in this split, because this is data that the model has not seen during training. So performance on this split gives us a sense of model performance on unseen data. The `pert_data.subgroup` object contains information about the set of perturbations present in each of the train/val/test splits, and each can be explored in more detail. For example, the perturbation types in the test set are split into the following categories: \n",
    "- **unseen_single**: single gene perturbations that have not been seen during training\n",
    "- **combo_seen0**: two-gene perturbations, none of the genes has been seen perturbed (individually or as part of a combination) during training \n",
    "- **combo_seen1**: two-gene perturbations, one of the genes has been seen perturbed (individually or as part of a combination) during training\n",
    "- **combo_seen2**: two-gene perturbations, both genes has been seen perturbed (individually or as part of a combination) during training"
   ]
  },
  {
   "cell_type": "code",
   "execution_count": 10,
   "metadata": {},
   "outputs": [
    {
     "name": "stdout",
     "output_type": "stream",
     "text": [
      "unseen_single: 37, combo_seen0: 9, combo_seen1: 52, combo_seen2: 18\n"
     ]
    }
   ],
   "source": [
    "pert_data.subgroup['test_subgroup'].keys()\n",
    "\n",
    "unseen_single = pert_data.subgroup['test_subgroup']['unseen_single']\n",
    "combo_seen0 = pert_data.subgroup['test_subgroup']['combo_seen0']\n",
    "combo_seen1 = pert_data.subgroup['test_subgroup']['combo_seen1']\n",
    "combo_seen2 = pert_data.subgroup['test_subgroup']['combo_seen2']\n",
    "\n",
    "print(f'unseen_single: {len(unseen_single)}, combo_seen0: {len(combo_seen0)}, combo_seen1: {len(combo_seen1)}, combo_seen2: {len(combo_seen2)}')"
   ]
  },
  {
   "cell_type": "markdown",
   "metadata": {},
   "source": [
    "Examples of combinations of genes where none of the genes has been seen during training:"
   ]
  },
  {
   "cell_type": "code",
   "execution_count": 11,
   "metadata": {},
   "outputs": [
    {
     "data": {
      "text/plain": [
       "['POU3F2+FOXL2',\n",
       " 'ZBTB10+PTPN12',\n",
       " 'CEBPB+PTPN12',\n",
       " 'CBL+PTPN12',\n",
       " 'RHOXF2BB+SET',\n",
       " 'CDKN1C+CDKN1B',\n",
       " 'CDKN1C+CDKN1A',\n",
       " 'CDKN1B+CDKN1A',\n",
       " 'C3orf72+FOXL2']"
      ]
     },
     "execution_count": 11,
     "metadata": {},
     "output_type": "execute_result"
    }
   ],
   "source": [
    "combo_seen0"
   ]
  },
  {
   "cell_type": "markdown",
   "metadata": {},
   "source": [
    "<a id='example_POU3F2+ctrl'></a>\n",
    "### Single-Gene Perturbation: Predicting perturbation response for perturbing the POU3F2 gene\n",
    "\n",
    "Then we can start exploring prediction on some of these perturbation categories. In the example below, we compare the perturbation prediction responses of scGPT and scGenePT_GO-C - scGPT + GO Cellular Components Annotations by perturbing the POU2F2 gene. Note that this gene has not been seen perturbed during training by the model. We do this by sampling n = 300 random controls from the training dataset and taking the mean of the average prediction for each control. According to NCBI Gene Card https://www.ncbi.nlm.nih.gov/gene/5454, overexpression of the protein encoded by POU3F2 is associated with an increase in the proliferation of melanoma cells. We can see that the genes FABP5, HSP90AB1, PRDX1, NPM1, TMSB10, PTMA are all better predicted as having a negative fold change over control by scGenePTGO−C, compared to scGPT which predicts a non-significant effect. "
   ]
  },
  {
   "cell_type": "code",
   "execution_count": 12,
   "metadata": {},
   "outputs": [
    {
     "data": {
      "image/png": "[encoded data removed]",
      "text/plain": [
       "<Figure size 1650x450 with 1 Axes>"
      ]
     },
     "metadata": {},
     "output_type": "display_data"
    }
   ],
   "source": [
    "pert = 'POU3F2+ctrl'\n",
    "colors = ['fuchsia']\n",
    "marker_types = [ 'o','s', 'x']\n",
    "models_to_predict = ['scgenept_go_c_gpt_concat']\n",
    "\n",
    "for model, color, marker_type, title  in zip(models_to_predict, colors, marker_types, ['scGenePT_GO-C']):\n",
    "    plot_perturbation(trained_models[model], pert, model, color, marker_type, title, amp = True, pool_size=300)"
   ]
  },
  {
   "cell_type": "markdown",
   "metadata": {},
   "source": [
    "We can inspect the GO Gene Annotations that were used for this gene during training. If you don't already have the GO annotations downloaded, they can be retrieved from [here](https://drive.google.com/drive/folders/1NrRfw5-N0GAZSOQ5EBI5xRL7dj3doHZP?usp=drive_link)"
   ]
  },
  {
   "cell_type": "code",
   "execution_count": 13,
   "metadata": {},
   "outputs": [],
   "source": [
    "import pandas as pd\n",
    "gene_annotations_dir = '../models/gene_embeddings/gene_annotations/'\n",
    "\n",
    "#GO-C Cellular Component Annotations\n",
    "GO_C_annotations_df = pd.read_csv(gene_annotations_dir + 'gene_ontology_C.csv')\n",
    "#GO-P Biological Process Annotations\n",
    "GO_P_annotations_df = pd.read_csv(gene_annotations_dir + 'gene_ontology_P.csv')\n",
    "#GO-F Molecular Function Annotations\n",
    "GO_F_annotations_df = pd.read_csv(gene_annotations_dir + 'gene_ontology_F.csv')"
   ]
  },
  {
   "cell_type": "markdown",
   "metadata": {},
   "source": [
    "For example, we can look at the GO-C Cellular Components annotations for the POU3F2 gene:"
   ]
  },
  {
   "cell_type": "code",
   "execution_count": 14,
   "metadata": {},
   "outputs": [
    {
     "data": {
      "text/html": [
       "<div>\n",
       "<style scoped>\n",
       "    .dataframe tbody tr th:only-of-type {\n",
       "        vertical-align: middle;\n",
       "    }\n",
       "\n",
       "    .dataframe tbody tr th {\n",
       "        vertical-align: top;\n",
       "    }\n",
       "\n",
       "    .dataframe thead th {\n",
       "        text-align: right;\n",
       "    }\n",
       "</style>\n",
       "<table border=\"1\" class=\"dataframe\">\n",
       "  <thead>\n",
       "    <tr style=\"text-align: right;\">\n",
       "      <th></th>\n",
       "      <th>gene</th>\n",
       "      <th>gene_name</th>\n",
       "      <th>ontology_aspect</th>\n",
       "      <th>direct_class_label</th>\n",
       "    </tr>\n",
       "  </thead>\n",
       "  <tbody>\n",
       "    <tr>\n",
       "      <th>37738</th>\n",
       "      <td>POU3F2</td>\n",
       "      <td>POU domain, class 3, transcription factor 2</td>\n",
       "      <td>C</td>\n",
       "      <td>nucleoplasm</td>\n",
       "    </tr>\n",
       "    <tr>\n",
       "      <th>37739</th>\n",
       "      <td>POU3F2</td>\n",
       "      <td>POU domain, class 3, transcription factor 2</td>\n",
       "      <td>C</td>\n",
       "      <td>chromatin</td>\n",
       "    </tr>\n",
       "    <tr>\n",
       "      <th>37740</th>\n",
       "      <td>POU3F2</td>\n",
       "      <td>POU domain, class 3, transcription factor 2</td>\n",
       "      <td>C</td>\n",
       "      <td>transcription regulator complex</td>\n",
       "    </tr>\n",
       "  </tbody>\n",
       "</table>\n",
       "</div>"
      ],
      "text/plain": [
       "         gene                                    gene_name ontology_aspect  \\\n",
       "37738  POU3F2  POU domain, class 3, transcription factor 2               C   \n",
       "37739  POU3F2  POU domain, class 3, transcription factor 2               C   \n",
       "37740  POU3F2  POU domain, class 3, transcription factor 2               C   \n",
       "\n",
       "                    direct_class_label  \n",
       "37738                      nucleoplasm  \n",
       "37739                        chromatin  \n",
       "37740  transcription regulator complex  "
      ]
     },
     "execution_count": 14,
     "metadata": {},
     "output_type": "execute_result"
    }
   ],
   "source": [
    "GO_C_annotations_df[GO_C_annotations_df['gene'] == 'POU3F2']"
   ]
  },
  {
   "cell_type": "markdown",
   "metadata": {},
   "source": [
    "By adding the GO Cellular Component annotations, the model learns that this gene is localized mostly in: nucleoplasm, chromatin and transcription regulator complex. Localization of gene products in the cell plays an important role in their biological function, e.g. protein-protein interaction; regulation of gene expression, transportation of protein. This tells us that subcellular localization is helpful in being able to predict effects of perturbation of this gene."
   ]
  },
  {
   "cell_type": "markdown",
   "metadata": {},
   "source": [
    "<a id='#example_CDKN1B+ctrl'></a>\n",
    "### Single-Gene Perturbation: Predicting perturbation response for perturbing the CDKN1B gene\n",
    "We can do this analysis for other genes as well. For example, the CDKN1B gene is another gene that has not been seen perturbed during training. According to this gene’s NCBI Gene Card https://www.ncbi.nlm.nih.gov/gene/1027, mutations in this gene are associated with multiple enodcrine neoplasia type IV. We can see that scGenePTGO−C predicts HSP90AA1, PTMA, RANBP1, CKS1B, PRDX1, PHF19 and NME1 as correctly down-regulated, as opposed to scGPT which predicts either neutral effect or positive fold change. Similarly, we speculate that the model learns to incorporate cellular location information to better predict gene expression change in response to genetic perturbation."
   ]
  },
  {
   "cell_type": "code",
   "execution_count": 15,
   "metadata": {},
   "outputs": [
    {
     "data": {
      "image/png": "[encoded data removed]",
      "text/plain": [
       "<Figure size 1650x450 with 1 Axes>"
      ]
     },
     "metadata": {},
     "output_type": "display_data"
    }
   ],
   "source": [
    "pert = 'CDKN1B+ctrl'\n",
    "colors = ['blue']\n",
    "marker_types = [ 'o','s']\n",
    "models_to_predict = ['scgenept_go_c_gpt_concat']\n",
    "\n",
    "for model, color, marker_type, title  in zip(models_to_predict, colors, marker_types, ['scGenePT_GO-C']):\n",
    "    plot_perturbation(trained_models[model], pert, model, color, marker_type, title, amp = True, pool_size=300)"
   ]
  },
  {
   "cell_type": "markdown",
   "metadata": {},
   "source": [
    "We can see that the subcellular localization annotations that the model sees during training for the CDK1NB gene are:"
   ]
  },
  {
   "cell_type": "code",
   "execution_count": 16,
   "metadata": {},
   "outputs": [
    {
     "data": {
      "text/html": [
       "<div>\n",
       "<style scoped>\n",
       "    .dataframe tbody tr th:only-of-type {\n",
       "        vertical-align: middle;\n",
       "    }\n",
       "\n",
       "    .dataframe tbody tr th {\n",
       "        vertical-align: top;\n",
       "    }\n",
       "\n",
       "    .dataframe thead th {\n",
       "        text-align: right;\n",
       "    }\n",
       "</style>\n",
       "<table border=\"1\" class=\"dataframe\">\n",
       "  <thead>\n",
       "    <tr style=\"text-align: right;\">\n",
       "      <th></th>\n",
       "      <th>gene</th>\n",
       "      <th>gene_name</th>\n",
       "      <th>ontology_aspect</th>\n",
       "      <th>direct_class_label</th>\n",
       "    </tr>\n",
       "  </thead>\n",
       "  <tbody>\n",
       "    <tr>\n",
       "      <th>72395</th>\n",
       "      <td>CDKN1B</td>\n",
       "      <td>Cyclin-dependent kinase inhibitor 1B</td>\n",
       "      <td>C</td>\n",
       "      <td>nucleus</td>\n",
       "    </tr>\n",
       "    <tr>\n",
       "      <th>72396</th>\n",
       "      <td>CDKN1B</td>\n",
       "      <td>Cyclin-dependent kinase inhibitor 1B</td>\n",
       "      <td>C</td>\n",
       "      <td>nucleoplasm</td>\n",
       "    </tr>\n",
       "    <tr>\n",
       "      <th>72397</th>\n",
       "      <td>CDKN1B</td>\n",
       "      <td>Cyclin-dependent kinase inhibitor 1B</td>\n",
       "      <td>C</td>\n",
       "      <td>cytoplasm</td>\n",
       "    </tr>\n",
       "    <tr>\n",
       "      <th>72398</th>\n",
       "      <td>CDKN1B</td>\n",
       "      <td>Cyclin-dependent kinase inhibitor 1B</td>\n",
       "      <td>C</td>\n",
       "      <td>endosome</td>\n",
       "    </tr>\n",
       "    <tr>\n",
       "      <th>72399</th>\n",
       "      <td>CDKN1B</td>\n",
       "      <td>Cyclin-dependent kinase inhibitor 1B</td>\n",
       "      <td>C</td>\n",
       "      <td>cytosol</td>\n",
       "    </tr>\n",
       "    <tr>\n",
       "      <th>72400</th>\n",
       "      <td>CDKN1B</td>\n",
       "      <td>Cyclin-dependent kinase inhibitor 1B</td>\n",
       "      <td>C</td>\n",
       "      <td>intracellular membrane-bounded organelle</td>\n",
       "    </tr>\n",
       "    <tr>\n",
       "      <th>72401</th>\n",
       "      <td>CDKN1B</td>\n",
       "      <td>Cyclin-dependent kinase inhibitor 1B</td>\n",
       "      <td>C</td>\n",
       "      <td>Cul4A-RING E3 ubiquitin ligase complex</td>\n",
       "    </tr>\n",
       "  </tbody>\n",
       "</table>\n",
       "</div>"
      ],
      "text/plain": [
       "         gene                             gene_name ontology_aspect  \\\n",
       "72395  CDKN1B  Cyclin-dependent kinase inhibitor 1B               C   \n",
       "72396  CDKN1B  Cyclin-dependent kinase inhibitor 1B               C   \n",
       "72397  CDKN1B  Cyclin-dependent kinase inhibitor 1B               C   \n",
       "72398  CDKN1B  Cyclin-dependent kinase inhibitor 1B               C   \n",
       "72399  CDKN1B  Cyclin-dependent kinase inhibitor 1B               C   \n",
       "72400  CDKN1B  Cyclin-dependent kinase inhibitor 1B               C   \n",
       "72401  CDKN1B  Cyclin-dependent kinase inhibitor 1B               C   \n",
       "\n",
       "                             direct_class_label  \n",
       "72395                                   nucleus  \n",
       "72396                               nucleoplasm  \n",
       "72397                                 cytoplasm  \n",
       "72398                                  endosome  \n",
       "72399                                   cytosol  \n",
       "72400  intracellular membrane-bounded organelle  \n",
       "72401    Cul4A-RING E3 ubiquitin ligase complex  "
      ]
     },
     "execution_count": 16,
     "metadata": {},
     "output_type": "execute_result"
    }
   ],
   "source": [
    "GO_C_annotations_df[GO_C_annotations_df['gene'] == 'CDKN1B']"
   ]
  },
  {
   "cell_type": "markdown",
   "metadata": {},
   "source": [
    "We speculate that having access to this information during training is helping the model make better predictions on the effect of perturbing this gene."
   ]
  },
  {
   "cell_type": "markdown",
   "metadata": {},
   "source": [
    "<a id='#example_SAMD1+ZBTB1'></a>\n",
    "### Two-gene Perturbation: Predicting perturbation response for perturbing the gene combination FOXA1+FOXL2\n",
    "\n",
    "We can also look at effects of combination of genes. Below, we offer an example of predicting perturbation responses for the FOXA1+FOXL2 gene combination. <br>\n",
    "Note that you can experiment with different gene combinations in **combo_seen0, combo_seen1**, or **combo_seen2**"
   ]
  },
  {
   "cell_type": "code",
   "execution_count": 17,
   "metadata": {},
   "outputs": [
    {
     "data": {
      "image/png": "[encoded data removed]",
      "text/plain": [
       "<Figure size 1650x450 with 1 Axes>"
      ]
     },
     "metadata": {},
     "output_type": "display_data"
    }
   ],
   "source": [
    "pert = 'FOXA1+FOXL2'\n",
    "colors = ['green']\n",
    "marker_types = [ 'o', 's', 's']\n",
    "models_to_predict = ['scgenept_ncbi+uniprot_gpt']\n",
    "\n",
    "for model, color, marker_type, title  in zip(models_to_predict, colors, marker_types, ['scGenePT_NCBI+UniProt']):\n",
    "    plot_perturbation(trained_models[model], pert, model, color, marker_type, title, amp = True, pool_size=300)"
   ]
  },
  {
   "cell_type": "markdown",
   "metadata": {},
   "source": [
    "Similarly, we can look at the NCBI and UniProt annotations for the genes:"
   ]
  },
  {
   "cell_type": "code",
   "execution_count": 18,
   "metadata": {},
   "outputs": [
    {
     "name": "stdout",
     "output_type": "stream",
     "text": [
      "Annotations for GENE: FOXA1\n",
      "==============================\n",
      "NCBI Gene Card Summary: Gene Symbol FOXA1 This gene encodes a member of the forkhead class of DNA-binding proteins. These hepatocyte nuclear factors are transcriptional activators for liver-specific transcripts such as albumin and transthyretin, and they also interact with chromatin. Similar family members in mice have roles in the regulation of metabolism and in the differentiation of the pancreas and liver.\n",
      "\n",
      "\n",
      "NCBI Gene Card + UniProt Protein Summary: Gene Symbol FOXA1 This gene encodes a member of the forkhead class of DNA-binding proteins. These hepatocyte nuclear factors are transcriptional activators for liver-specific transcripts such as albumin and transthyretin, and they also interact with chromatin. Similar family members in mice have roles in the regulation of metabolism and in the differentiation of the pancreas and liver. Protein summary: Transcription factor that is involved in embryonic development, establishment of tissue-specific gene expression and regulation of gene expression in differentiated tissues. Is thought to act as a 'pioneer' factor opening the compacted chromatin for other proteins through interactions with nucleosomal core histones and thereby replacing linker histones at target enhancer and/or promoter sites. Binds DNA with the consensus sequence 5'-[AC]A[AT]T[AG]TT[GT][AG][CT]T[CT]-3' (By similarity). Proposed to play a role in translating the epigenetic signatures into cell type-specific enhancer-driven transcriptional programs. Its differential recruitment to chromatin is dependent on distribution of histone H3 methylated at 'Lys-5' (H3K4me2) in estrogen-regulated genes. Involved in the development of multiple endoderm-derived organ systems such as liver, pancreas, lung and prostate; FOXA1 and FOXA2 seem to have at least in part redundant roles (By similarity). Modulates the transcriptional activity of nuclear hormone receptors. Is involved in ESR1-mediated transcription; required for ESR1 binding to the NKX2-1 promoter in breast cancer cells; binds to the RPRM promoter and is required for the estrogen-induced repression of RPRM. Involved in regulation of apoptosis by inhibiting the expression of BCL2. Involved in cell cycle regulation by activating expression of CDKN1B, alone or in conjunction with BRCA1. Originally described as a transcription activator for a number of liver genes such as AFP, albumin, tyrosine aminotransferase, PEPCK, etc. Interacts with the cis-acting regulatory regions of these genes. Involved in glucose homeostasis\n",
      "\n",
      "\n",
      "Annotations for GENE: FOXL2\n",
      "==============================\n",
      "NCBI Gene Card Summary: Gene Symbol FOXL2 This gene encodes a forkhead transcription factor. The protein contains a fork-head DNA-binding domain and may play a role in ovarian development and function. Expansion of a polyalanine repeat region and other mutations in this gene are a cause of blepharophimosis syndrome and premature ovarian failure 3.\n",
      "\n",
      "\n",
      "NCBI Gene Card + UniProt Protein Summary: Gene Symbol FOXL2 This gene encodes a forkhead transcription factor. The protein contains a fork-head DNA-binding domain and may play a role in ovarian development and function. Expansion of a polyalanine repeat region and other mutations in this gene are a cause of blepharophimosis syndrome and premature ovarian failure 3. Protein summary: Transcriptional regulator. Critical factor essential for ovary differentiation and maintenance, and repression of the genetic program for somatic testis determination. Prevents trans-differentiation of ovary to testis through transcriptional repression of the Sertoli cell-promoting gene SOX9 (By similarity). Has apoptotic activity in ovarian cells. Suppresses ESR1-mediated transcription of PTGS2/COX2 stimulated by tamoxifen (By similarity). Is a regulator of CYP19 expression (By similarity). Participates in SMAD3-dependent transcription of FST via the intronic SMAD-binding element (By similarity). Is a transcriptional repressor of STAR. Activates SIRT1 transcription under cellular stress conditions. Activates transcription of OSR2\n",
      "\n",
      "\n"
     ]
    }
   ],
   "source": [
    "# NCBI Gene Card Annotations\n",
    "NCBI_gene_card_summaries = json.load(open(gene_annotations_dir + 'NCBI_summary_of_genes.json', 'rb'))\n",
    "# NCBI Gene Card + UniProt protein summaries Annotations\n",
    "NCBI_UniProt_gene_card_protein_summaries = json.load(open(gene_annotations_dir + 'NCBI_UniProt_summary_of_genes.json', 'rb'))\n",
    "\n",
    "comb_genes = pert.split('+')\n",
    "for gene in comb_genes:\n",
    "    print(f\"Annotations for GENE: {gene}\")\n",
    "    print('='*30)\n",
    "    print(f\"NCBI Gene Card Summary: {NCBI_gene_card_summaries[gene]}\")\n",
    "    print('\\n')\n",
    "    print(f\"NCBI Gene Card + UniProt Protein Summary: {NCBI_UniProt_gene_card_protein_summaries[gene]}\")\n",
    "    print('\\n')"
   ]
  },
  {
   "cell_type": "markdown",
   "metadata": {},
   "source": [
    "<a id='predicting_on_rnd_ctrl'></a>\n",
    "## 3. Predicting on numpy arrays holding control samples\n",
    "\n",
    "We can make predictions on various data formats. Let's say we have a control sample held in a numpy array. We can use one of the trained models to make predictions. <br> \n",
    "For example, let's use the scGenePT-GO-C model trained on Norman. First, we need to load the trained model: "
   ]
  },
  {
   "cell_type": "code",
   "execution_count": 19,
   "metadata": {},
   "outputs": [
    {
     "name": "stderr",
     "output_type": "stream",
     "text": [
      "Found local copy...\n",
      "Local copy of pyg dataset is detected. Loading...\n",
      "Done!\n",
      "Local copy of split is detected. Loading...\n",
      "Simulation split test composition:\n",
      "combo_seen0:9\n",
      "combo_seen1:52\n",
      "combo_seen2:18\n",
      "unseen_single:37\n",
      "Done!\n",
      "Creating dataloaders....\n",
      "Done!\n"
     ]
    },
    {
     "name": "stdout",
     "output_type": "stream",
     "text": [
      "scGenePT model-type: scgenept_go_c_gpt_concat\n",
      "match 4547/5045 genes in vocabulary of size 60697.\n",
      "Using c GO embs\n",
      "Matched 2945 out of 5045 genes in the GenePT-w embedding\n",
      "Using the following embeddings:['GO_token_embs_gpt_concat', 'scGPT_counts_embs', 'scGPT_token_embs']\n"
     ]
    }
   ],
   "source": [
    "model_name = 'scgenept_go_c_gpt_concat'\n",
    "dataset_name = 'norman' \n",
    "pert_data = load_dataloader(dataset_name, batch_size = 64, val_batch_size = 64, split = 'simulation')\n",
    "\n",
    "model_filename = model_name2model_variation[model_name]\n",
    "model_location =  f'../models/finetuned/scgenept_go_c/{dataset_name}/{model_filename}'\n",
    "model, gene_ids =  load_trained_scgenept_model(pert_data, model_name, pretrained_scgpt_model_dir, model_location, device, verbose = False)"
   ]
  },
  {
   "cell_type": "markdown",
   "metadata": {},
   "source": [
    "Let's say we have a control sample in a np array and we want to predict the effect of perturbing the **FOSB** gene. Note that in the example below, the order of the genes in the ctrl_sample would have to match the one in gene_names of the dataset that the model was trained on. Otherwise, additional gene name matching should be made."
   ]
  },
  {
   "cell_type": "code",
   "execution_count": 20,
   "metadata": {},
   "outputs": [
    {
     "name": "stdout",
     "output_type": "stream",
     "text": [
      "There are 5045 genes, the first 10 are: ['RP11-34P13.8', 'RP11-54O7.3', 'SAMD11', 'PERM1', 'HES4', 'ISG15', 'RP11-54O7.18', 'RNF223', 'LINC01342', 'TTLL10-AS1']\n"
     ]
    }
   ],
   "source": [
    "gene_names = pert_data.gene_names.to_list()\n",
    "print(f'There are {len(gene_names)} genes, the first 10 are: {gene_names[:10]}')"
   ]
  },
  {
   "cell_type": "code",
   "execution_count": 21,
   "metadata": {},
   "outputs": [],
   "source": [
    "pert = \"FOSB+ctrl\"\n",
    "ctrl_sample = np.random.rand(5045) # this can be replaced with a different control sample, as long as the order of the gene matches"
   ]
  },
  {
   "cell_type": "markdown",
   "metadata": {},
   "source": [
    "Then we need to assign the correct perturbation flags in the control sequence, so that the model knows what gene should get perturbed"
   ]
  },
  {
   "cell_type": "code",
   "execution_count": 22,
   "metadata": {},
   "outputs": [],
   "source": [
    "def get_pert_flags(ctrl_sample, gene_names, pert):\n",
    "    pert_flags = np.zeros(len(ctrl_sample))\n",
    "    if pert!= 'ctrl':\n",
    "        for x in pert.split('+'):\n",
    "            if x != 'ctrl':\n",
    "                pert_flags[gene_names.index(x)] = 1\n",
    "    pert_flags = torch.from_numpy(pert_flags).long().to(device).unsqueeze(0)\n",
    "    return pert_flags\n",
    "\n",
    "pert_flags = get_pert_flags(ctrl_sample, gene_names, pert)"
   ]
  },
  {
   "cell_type": "markdown",
   "metadata": {},
   "source": [
    "Then we can get the model predictions by calling the model in inference mode:"
   ]
  },
  {
   "cell_type": "code",
   "execution_count": 23,
   "metadata": {},
   "outputs": [],
   "source": [
    "def pred_ctrl_sample(model, gene_ids, ctrl_sample, pert_flags, device):\n",
    "    ctrl_sample = torch.from_numpy(np.expand_dims(ctrl_sample, 0)).to(dtype = torch.float32).to(device)\n",
    "    gene_ids_tensor = torch.tensor(gene_ids).long().unsqueeze(0).to(device)\n",
    "    src_key_padding_mask = torch.zeros_like(gene_ids_tensor, dtype=torch.bool, device=device)\n",
    "    model = model.to(torch.float32)\n",
    "    with torch.cuda.amp.autocast(enabled=True):\n",
    "        with torch.no_grad():\n",
    "            output_dict = model(\n",
    "                gene_ids_tensor,\n",
    "                ctrl_sample,\n",
    "                pert_flags,\n",
    "                src_key_padding_mask=src_key_padding_mask,\n",
    "                CLS=False,\n",
    "                CCE=False,\n",
    "                MVC=False,\n",
    "                ECS=False,\n",
    "                do_sample=True,\n",
    "            )\n",
    "    prediction = output_dict[\"mlm_output\"].float().detach().cpu().numpy()\n",
    "    return prediction"
   ]
  },
  {
   "cell_type": "code",
   "execution_count": 24,
   "metadata": {},
   "outputs": [],
   "source": [
    "preds = pred_ctrl_sample(model, gene_ids, ctrl_sample, pert_flags, device)"
   ]
  },
  {
   "cell_type": "code",
   "execution_count": 25,
   "metadata": {},
   "outputs": [
    {
     "data": {
      "text/plain": [
       "array([[-2.7465820e-03,  1.5365601e-02,  1.2809753e-02, ...,\n",
       "         3.7304688e+00,  9.3612671e-03,  7.0419312e-03]], dtype=float32)"
      ]
     },
     "execution_count": 25,
     "metadata": {},
     "output_type": "execute_result"
    }
   ],
   "source": [
    "preds"
   ]
  },
  {
   "cell_type": "code",
   "execution_count": 26,
   "metadata": {},
   "outputs": [
    {
     "data": {
      "text/plain": [
       "(1, 5045)"
      ]
     },
     "execution_count": 26,
     "metadata": {},
     "output_type": "execute_result"
    }
   ],
   "source": [
    "preds.shape"
   ]
  },
  {
   "cell_type": "markdown",
   "metadata": {},
   "source": [
    "<a id='prediction_on_new_anndata_file'></a>\n",
    "## 4. Predicting on AnnData files\n",
    "We can follow a similar sequence to predict on an `AnnData` file. Note that in the example below, you can replace the `adata_ctrl` file with your file of choice:"
   ]
  },
  {
   "cell_type": "code",
   "execution_count": 27,
   "metadata": {},
   "outputs": [
    {
     "data": {
      "text/plain": [
       "View of AnnData object with n_obs × n_vars = 100 × 5045\n",
       "    obs: 'condition', 'cell_type', 'dose_val', 'control', 'condition_name'\n",
       "    var: 'gene_name', 'id_in_vocab'\n",
       "    uns: 'non_dropout_gene_idx', 'non_zeros_gene_idx', 'rank_genes_groups_cov_all', 'top_non_dropout_de_20', 'top_non_zero_de_20'\n",
       "    layers: 'counts'"
      ]
     },
     "execution_count": 27,
     "metadata": {},
     "output_type": "execute_result"
    }
   ],
   "source": [
    "pert_adata = pert_data.adata\n",
    "adata_ctrl = pert_adata[pert_adata.obs['condition'] == 'ctrl'][:100] # this can be any other AnnData file\n",
    "adata_ctrl"
   ]
  },
  {
   "cell_type": "markdown",
   "metadata": {},
   "source": [
    "Note that the set and order of the genes in the AnnData file would have to match that of the genes the model has been trained on. In most cases, this will mean filtering the data to match this. The 5045 genes used by the model are:"
   ]
  },
  {
   "cell_type": "code",
   "execution_count": 28,
   "metadata": {},
   "outputs": [
    {
     "data": {
      "text/html": [
       "<div>\n",
       "<style scoped>\n",
       "    .dataframe tbody tr th:only-of-type {\n",
       "        vertical-align: middle;\n",
       "    }\n",
       "\n",
       "    .dataframe tbody tr th {\n",
       "        vertical-align: top;\n",
       "    }\n",
       "\n",
       "    .dataframe thead th {\n",
       "        text-align: right;\n",
       "    }\n",
       "</style>\n",
       "<table border=\"1\" class=\"dataframe\">\n",
       "  <thead>\n",
       "    <tr style=\"text-align: right;\">\n",
       "      <th></th>\n",
       "      <th>gene_name</th>\n",
       "      <th>id_in_vocab</th>\n",
       "    </tr>\n",
       "    <tr>\n",
       "      <th>gene_id</th>\n",
       "      <th></th>\n",
       "      <th></th>\n",
       "    </tr>\n",
       "  </thead>\n",
       "  <tbody>\n",
       "    <tr>\n",
       "      <th>ENSG00000239945</th>\n",
       "      <td>RP11-34P13.8</td>\n",
       "      <td>1</td>\n",
       "    </tr>\n",
       "    <tr>\n",
       "      <th>ENSG00000223764</th>\n",
       "      <td>RP11-54O7.3</td>\n",
       "      <td>-1</td>\n",
       "    </tr>\n",
       "    <tr>\n",
       "      <th>ENSG00000187634</th>\n",
       "      <td>SAMD11</td>\n",
       "      <td>1</td>\n",
       "    </tr>\n",
       "    <tr>\n",
       "      <th>ENSG00000187642</th>\n",
       "      <td>PERM1</td>\n",
       "      <td>1</td>\n",
       "    </tr>\n",
       "    <tr>\n",
       "      <th>ENSG00000188290</th>\n",
       "      <td>HES4</td>\n",
       "      <td>1</td>\n",
       "    </tr>\n",
       "    <tr>\n",
       "      <th>...</th>\n",
       "      <td>...</td>\n",
       "      <td>...</td>\n",
       "    </tr>\n",
       "    <tr>\n",
       "      <th>ENSG00000198786</th>\n",
       "      <td>MT-ND5</td>\n",
       "      <td>1</td>\n",
       "    </tr>\n",
       "    <tr>\n",
       "      <th>ENSG00000198695</th>\n",
       "      <td>MT-ND6</td>\n",
       "      <td>1</td>\n",
       "    </tr>\n",
       "    <tr>\n",
       "      <th>ENSG00000198727</th>\n",
       "      <td>MT-CYB</td>\n",
       "      <td>1</td>\n",
       "    </tr>\n",
       "    <tr>\n",
       "      <th>ENSG00000273554</th>\n",
       "      <td>AC136616.1</td>\n",
       "      <td>-1</td>\n",
       "    </tr>\n",
       "    <tr>\n",
       "      <th>ENSG00000278633</th>\n",
       "      <td>AC023491.2</td>\n",
       "      <td>-1</td>\n",
       "    </tr>\n",
       "  </tbody>\n",
       "</table>\n",
       "<p>5045 rows × 2 columns</p>\n",
       "</div>"
      ],
      "text/plain": [
       "                    gene_name  id_in_vocab\n",
       "gene_id                                   \n",
       "ENSG00000239945  RP11-34P13.8            1\n",
       "ENSG00000223764   RP11-54O7.3           -1\n",
       "ENSG00000187634        SAMD11            1\n",
       "ENSG00000187642         PERM1            1\n",
       "ENSG00000188290          HES4            1\n",
       "...                       ...          ...\n",
       "ENSG00000198786        MT-ND5            1\n",
       "ENSG00000198695        MT-ND6            1\n",
       "ENSG00000198727        MT-CYB            1\n",
       "ENSG00000273554    AC136616.1           -1\n",
       "ENSG00000278633    AC023491.2           -1\n",
       "\n",
       "[5045 rows x 2 columns]"
      ]
     },
     "execution_count": 28,
     "metadata": {},
     "output_type": "execute_result"
    }
   ],
   "source": [
    "adata_ctrl.var"
   ]
  },
  {
   "cell_type": "markdown",
   "metadata": {},
   "source": [
    "Each of them will correspond to a value in `adata_ctrl.X`:"
   ]
  },
  {
   "cell_type": "code",
   "execution_count": 29,
   "metadata": {},
   "outputs": [
    {
     "data": {
      "text/plain": [
       "<Compressed Sparse Row sparse matrix of dtype 'float32'\n",
       "\twith 40918 stored elements and shape (100, 5045)>"
      ]
     },
     "execution_count": 29,
     "metadata": {},
     "output_type": "execute_result"
    }
   ],
   "source": [
    "adata_ctrl.X # an entry (i, j) corresponds to the value of gene j in cell i; the 5045 genes must match to the list above"
   ]
  },
  {
   "cell_type": "markdown",
   "metadata": {},
   "source": [
    "Using similarly the model loaded above to generate predictions for perturbing a particular gene perturbation X:"
   ]
  },
  {
   "cell_type": "code",
   "execution_count": 30,
   "metadata": {},
   "outputs": [],
   "source": [
    "gene_pert = 'CEBPB+ctrl'\n",
    "\n",
    "ctrl_size = None # Note that if this is != None, then the ctrl samples will get randomly sampled.\n",
    "return_mean = False # If this is True, then the mean of the predictions will get returned\n",
    "preds = model.pred_perturb_from_ctrl(adata_ctrl, gene_pert, gene_names, device, gene_ids, pool_size = ctrl_size, return_mean = False).squeeze()"
   ]
  },
  {
   "cell_type": "code",
   "execution_count": 31,
   "metadata": {},
   "outputs": [
    {
     "data": {
      "text/plain": [
       "array([[-3.6010742e-03,  1.1207581e-02,  8.7280273e-03, ...,\n",
       "         3.8457031e+00,  1.1207581e-02,  1.1207581e-02],\n",
       "       [-3.3512115e-03,  1.0574341e-02,  8.2092285e-03, ...,\n",
       "         3.8339844e+00,  1.0574341e-02,  1.0574341e-02],\n",
       "       [-3.3836365e-03,  1.0696411e-02,  8.4991455e-03, ...,\n",
       "         3.8457031e+00,  1.0696411e-02,  1.0696411e-02],\n",
       "       ...,\n",
       "       [-3.2081604e-03,  1.0917664e-02,  8.7509155e-03, ...,\n",
       "         3.8378906e+00,  1.0917664e-02,  1.0917664e-02],\n",
       "       [-3.2596588e-03,  1.1123657e-02,  8.6669922e-03, ...,\n",
       "         3.8476562e+00,  1.1123657e-02,  1.1123657e-02],\n",
       "       [-3.3226013e-03,  1.0871887e-02,  8.5983276e-03, ...,\n",
       "         3.8378906e+00,  1.0871887e-02,  1.0871887e-02]], dtype=float32)"
      ]
     },
     "execution_count": 31,
     "metadata": {},
     "output_type": "execute_result"
    }
   ],
   "source": [
    "preds"
   ]
  },
  {
   "cell_type": "code",
   "execution_count": 32,
   "metadata": {},
   "outputs": [
    {
     "data": {
      "text/plain": [
       "(100, 5045)"
      ]
     },
     "execution_count": 32,
     "metadata": {},
     "output_type": "execute_result"
    }
   ],
   "source": [
    "preds.shape"
   ]
  },
  {
   "cell_type": "markdown",
   "metadata": {},
   "source": [
    "We can then assign the predictions to the anndata file:"
   ]
  },
  {
   "cell_type": "code",
   "execution_count": 33,
   "metadata": {},
   "outputs": [],
   "source": [
    "adata_ctrl.layers[f'{model_name}_predictions'] = preds"
   ]
  },
  {
   "cell_type": "code",
   "execution_count": 34,
   "metadata": {},
   "outputs": [
    {
     "data": {
      "text/plain": [
       "AnnData object with n_obs × n_vars = 100 × 5045\n",
       "    obs: 'condition', 'cell_type', 'dose_val', 'control', 'condition_name'\n",
       "    var: 'gene_name', 'id_in_vocab'\n",
       "    uns: 'non_dropout_gene_idx', 'non_zeros_gene_idx', 'rank_genes_groups_cov_all', 'top_non_dropout_de_20', 'top_non_zero_de_20'\n",
       "    layers: 'counts', 'scgenept_go_c_gpt_concat_predictions'"
      ]
     },
     "execution_count": 34,
     "metadata": {},
     "output_type": "execute_result"
    }
   ],
   "source": [
    "adata_ctrl"
   ]
  },
  {
   "cell_type": "markdown",
   "metadata": {
    "id": "JWfXZ535yKi3"
   },
   "source": [
    "<a id='contact'></a>\n",
    "## Contact & Feedback\n",
    "\n",
    "Ana-Maria Istrate, aistrate@chanzuckerberg.com"
   ]
  },
  {
   "cell_type": "markdown",
   "metadata": {
    "id": "R3jdy9WHyO8Z"
   },
   "source": [
    "## References\n",
    "\n",
    "1. Norman, Thomas M., et al. \"Exploring genetic interaction manifolds constructed from rich single-cell phenotypes.\" Science 365.6455 (2019): 786-793.\n",
    "2. Cui, Haotian, et al. \"scGPT: toward building a foundation model for single-cell multi-omics using generative AI.\" Nature Methods (2024): 1-11.\n",
    "3. Chen, Yiqun, and James Zou. \"GenePT: a simple but effective foundation model for genes and cells built from ChatGPT.\" bioRxiv (2024): 2023-10.\n",
    "4. Roohani, Yusuf, Kexin Huang, and Jure Leskovec. \"Predicting transcriptional outcomes of novel multigene perturbations with GEARS.\" Nature Biotechnology 42.6 (2024): 927-935."
   ]
  }
 ],
 "metadata": {
  "colab": {
   "provenance": []
  },
  "kernelspec": {
   "display_name": "scgenept-new",
   "language": "python",
   "name": "scgenept-new"
  },
  "language_info": {
   "codemirror_mode": {
    "name": "ipython",
    "version": 3
   },
   "file_extension": ".py",
   "mimetype": "text/x-python",
   "name": "python",
   "nbconvert_exporter": "python",
   "pygments_lexer": "ipython3",
   "version": "3.10.14"
  }
 },
 "nbformat": 4,
 "nbformat_minor": 4
}
