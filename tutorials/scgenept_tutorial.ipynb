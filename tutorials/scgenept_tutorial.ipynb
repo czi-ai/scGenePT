{
 "cells": [
  {
   "cell_type": "markdown",
   "metadata": {
    "id": "_8B3Qjzdw23t"
   },
   "source": [
    "# scGenePT Perturbation Prediction Tutorial \n",
    "\n",
    "<a id = 'introduction'></a>\n",
    "Last Updated: [11/14/2024] This notebook offers examples of how to use trained scGenePT models in inference mode for perturbation prediction. It uses models fine-tuned on the **Norman [1] dataset** and offers examples of predicting post-perturbation expression responses for **single gene perturbations**: POU3F2, CDKN1B and **gene combinations**: SAMD1+ZBTB1. Models have not been evaluated on multiple gene combination perturbation responses, so behavior is unknown. \n",
    "\n",
    "**Model** : scGenePT is a collection of single-cell models for perturbation prediction. It leverages the [scGPT](https://github.com/bowang-lab/scGPT) [2] foundation model for scRNAseq data by injecting language embeddings at the gene level into the model architecture. The language gene embeddings are obtained by embedding gene level information from different knowledge sources using LLMs. The knowledge sources used include NCBI gene descriptions, UniProt protein Summaries for protein coding genes - as inspired by the [genePT](https://github.com/yiqunchen/GenePT) [3] approach - and GO (Gene Ontology) Gene Molecular Annotations, across three different axes: Molecular Function, Biological Process and Cellular Component. The model variations available are:\n",
    "- **scGenePT_NCBI** = scGPT + NCBI Gene Card Summaries\n",
    "- **scGenePT_NCBI+UniProt** = scGPT + NCBI Gene Card Summaries + UniProt Protein Summaries\n",
    "- **scGenePT_GO−F** = scGPT + GO Molecular Functions Annotations\n",
    "- **scGenePT_GO−C** = scGPT + GO Cellular Components Annotations\n",
    "- **scGenePT_GO−P** = scGPT + GO Biological Processes Annotations\n",
    "- **scGenePT+GO−all** = scGPT + GO_F + GO_C + GO_P\n",
    "\n",
    "**Dataset**: The Norman Dataset [1] is a CRISPR perturb-seq dataset containing single and two-gene perturbations. We use a processed version of the dataset that contains 105 single and 131 two-gene combinations perturbations coming from 91k observations. Cells in the dataset are log-normalized and filtered to the top 5000 highly variable genes. Models in ths notebook are trained on the train split of the dataset. We offer examples of:\n",
    "- performing inference on the test split of the Norman dataset\n",
    "- performing inference on a random control sample and on a new anndata file\n",
    "\n",
    "**The notebook is structured and offers the following examples**:\n",
    "1. [Perturbation prediction](#perturbation_prediction)\n",
    "    - [Load the Norman dataset](#load_dataset)\n",
    "    - [Load a trained scGenePT model](#load_trained_scgenept_model)\n",
    "2. [Plotting the top 20 Differentially Expressed Genes post-perturbation](#plot_top_20_de)\n",
    "    - [Predicting perturbation response for perturbing the POU3F2 gene. Comparison of scGPT with scGenePT_GO−C](#example_POU3F2+ctrl)\n",
    "    - [Predicting perturbation response for perturbing the CDKN1B gene. Comparison of scGPT with scGenePT_GO−C](#example_CDKN1B+ctrl)\n",
    "    - [Predicting perturbation response for perturbing the SAMD1+ZBTB1 gene combination. Comparison of scGPT with scGenePT_NCBI+UniProt](#example_SAMD1+ZBTB1) \n",
    "3. [Perturbation prediction on NumPy arrays holding control samples](#prediction_on_rnd_ctrl)\n",
    "4. [Perturbation prediction on AnnData files](#prediction_on_new_anndata_file)\n",
    "\n",
    "<!-- **The full list of resources available is**:\n",
    "1. [bioRxiv Preprint](https://www.biorxiv.org/content/10.1101/2024.10.23.619972v1)\n",
    "2. [scGenePT Trained Model Weights](https://drive.google.com/drive/u/0/folders/12h1hL3cJF3W0VG92JqGJ1-4R-2nDXbzc)\n",
    "3. [Gene Embeddings, computed using LLMs](https://drive.google.com/drive/folders/191d8uXaoUNvvZ8DZHzlR1O6BK9vLnqqy?usp=drive_link) <br>\n",
    "• NCBI Gene Card summaries, NCBI Gene Card Summaries + UniProt Protein Summaries <br>\n",
    "• GO-C Cellular Components Gene Annotations, GO-F Molecular Function Gene Annotations, GO-P Biological Process Gene Annotations, GO-all (GO-C + GO-F + GO-P) -->"
   ]
  },
  {
   "cell_type": "markdown",
   "metadata": {
    "id": "dEFliUdPxthd"
   },
   "source": [
    "## Setup"
   ]
  },
  {
   "cell_type": "markdown",
   "metadata": {},
   "source": [
    "**Prerequisites and hardware requirements**\n",
    "\n",
    "1. The notebook must run inside a virtual env containing the needed packages. If you already created one, then you can skip this step. If you haven't, you must create one through. <br>\n",
    "\n",
    "First, you'll need to clone the repo through: <br>\n",
    "\n",
    "```\n",
    "git clone git@github.com:czi-ai/scGenePT.git\n",
    "```\n",
    "\n",
    "\n",
    "Then you need to create a virtual environment containing the model packaging dependencies. The `requirements.txt` file is under the repo.\n",
    "\n",
    "```python\n",
    "conda create -y --name scgenept python=3.10\n",
    "source activate scgenept\n",
    "pip install -r requirements.txt\n",
    "pip install flash-attn --no-build-isolation\n",
    "pip install scgpt \"flash-attn<1.0.5\"\n",
    "```\n",
    "\n",
    "2. Once you have a venv created, activate it and allow the jupyter notebook to use it as a kernel by running the following command from the terminal. If jupyter is not installed, it should be:\n",
    "```python\n",
    "source activate scgenept\n",
    "pip install ipykernel\n",
    "pip install jupyter\n",
    "python -m ipykernel install --user --name=scgenept\n",
    "```\n",
    "\n",
    "3. Open the jupyter notebook. You should now be able to see and select a new kernel: scgenept. The notebook needs to be ran inside this kernel in order for all packages to be properly installed.\n",
    "\n",
    "**Model and Data**\n",
    "\n",
    "Please follow these steps on the [GitHub README](https://github.com/czi-ai/scGenePT/blob/main/README.md): \n",
    "- **Download scGPT Pretrained Model** - the scGPT model needs to be under `models/pretrained/scgpt` \n",
    "- **Download Gene Embeddings** - the gene embeddings files should be under `models/gene_embeddings`. \n",
    "- **Download Trained scGenePT models from the scGenePT Model Zoo** - they should be under `models/finetuned` <br>\n",
    "Note that you can download all finetuned models from [this link](https://drive.google.com/drive/folders/1U9PodoV7A-Dkk-GemmLB_AzmkgE-owp_?usp=drive_link)\n",
    "\n",
    "\n",
    "**The expected folder structure should be**:\n",
    "\n",
    "- models\n",
    "    - pretrained/scgpt\n",
    "    - gene_embeddings\n",
    "    - finetuned\n",
    "- tutorials\n",
    "    - scgenept_tutorial.ipynb"
   ]
  },
  {
   "cell_type": "code",
   "execution_count": null,
   "metadata": {
    "id": "aNSqZsf2xwlg"
   },
   "outputs": [],
   "source": [
    "import sys\n",
    "sys.path.insert(1, '../')\n",
    "\n",
    "from train import load_dataloader\n",
    "from utils.data_loading import *\n",
    "from models.scGenePT import *\n",
    "from sklearn.decomposition import PCA\n",
    "import matplotlib.pyplot as plt\n",
    "from gears.inference import evaluate, compute_metrics, deeper_analysis, non_dropout_analysis"
   ]
  },
  {
   "cell_type": "markdown",
   "metadata": {
    "id": "AMtC5qMd44Mu"
   },
   "source": [
    "<a id='perturbation prediction'></a>\n",
    "## 1. Perturbation Prediction using a trained scGenePT model"
   ]
  },
  {
   "cell_type": "markdown",
   "metadata": {},
   "source": [
    "<a id='load_dataset'></a>\n",
    "### Load dataset\n",
    "We start by loading the Norman dataset. The dataloaders use a pre-processed version of Norman from [GEARS](https://github.com/snap-stanford/GEARS) [3]. Models in this notebook have been finetuned on the train split of this dataset. We also showcase how to perform inference on the test split of this dataset. "
   ]
  },
  {
   "cell_type": "code",
   "execution_count": null,
   "metadata": {},
   "outputs": [],
   "source": [
    "# Has been tested with 'norman' and 'adamson'\n",
    "dataset_name = 'norman' \n",
    "batch_size = 64\n",
    "eval_batch_size = 64\n",
    "\n",
    "pert_data = load_dataloader(dataset_name, batch_size, eval_batch_size, split = 'simulation')\n",
    "train_loader = pert_data.dataloader['train_loader']\n",
    "val_loader = pert_data.dataloader['val_loader']\n",
    "test_loader = pert_data.dataloader['test_loader']"
   ]
  },
  {
   "cell_type": "markdown",
   "metadata": {},
   "source": [
    "<a id='dataset_exploration'></a>\n",
    "### Dataset Exploration"
   ]
  },
  {
   "cell_type": "markdown",
   "metadata": {},
   "source": [
    "We can examine the data inside the dataloaders. The `pert_data.adata` is an AnnData object containing gene expression counts and additional information."
   ]
  },
  {
   "cell_type": "code",
   "execution_count": null,
   "metadata": {},
   "outputs": [],
   "source": [
    "pert_data.adata"
   ]
  },
  {
   "cell_type": "markdown",
   "metadata": {},
   "source": [
    "The gene expression counts are stored in `pert_adata.adata.X`, where each entry (i, j) entry corresponds to the gene expression counts of gene j in row i"
   ]
  },
  {
   "cell_type": "code",
   "execution_count": null,
   "metadata": {},
   "outputs": [],
   "source": [
    "pert_data.adata.X # 902105 cells, 5045 genes"
   ]
  },
  {
   "cell_type": "markdown",
   "metadata": {},
   "source": [
    "The `pert_data.adata.obs` file contains information about the different perturbation conditions applied to the data stored in .X. For instance, below we can see examples of 1-gene perturbations: *TSC22D1+ctrl, MAML2+ctrl*, etc, examples of 2-gene perturbations: *KLF1+MAP2K6, CEBPE+RUNX1T1*, and examples of control samples. Each of the conditions corresponds to gene expression counts stored in .X."
   ]
  },
  {
   "cell_type": "code",
   "execution_count": null,
   "metadata": {},
   "outputs": [],
   "source": [
    "pert_data.adata.obs # perturbation conditions applied to the 902105 cells"
   ]
  },
  {
   "cell_type": "markdown",
   "metadata": {},
   "source": [
    "The `pert_data.adata.var` gives us the set of genes:"
   ]
  },
  {
   "cell_type": "code",
   "execution_count": null,
   "metadata": {},
   "outputs": [],
   "source": [
    "print(f'There are {len(pert_data.adata.var)} number of genes present in the dataset.')\n",
    "pert_data.adata.var.head() # the names of the 5045 genes"
   ]
  },
  {
   "cell_type": "markdown",
   "metadata": {},
   "source": [
    "<a id='load_trained_scgenept'></a>\n",
    "### Load trained scGenePT models\n",
    "\n",
    "In this section, we show examples of loading multiple scGenePT models for prediction in order to compare them. All the models under the scGenePT Model Zoo can be found under [GitHub repo](https://github.com/czi-ai/scGenePT/) and the trained model weights under [this GDrive link](https://drive.google.com/drive/folders/1U9PodoV7A-Dkk-GemmLB_AzmkgE-owp_?usp=drive_link)<br>\n",
    "\n",
    "Here, we load the following:\n",
    "- **scGPT** = scGPT model | [Download Link](https://drive.google.com/file/d/1OzTVmj24k_QrLAwKkwv8Q6SNW4yDcW00/view?usp=drive_link)\n",
    "- **scGenePT_NCBI+UniProt** = scGPT + NCBI Gene Card Summaries + UniProt Protein Summaries | [Download Link](https://drive.google.com/file/d/17tsBhTkuEw1uwTSvsK9Hskq3px_3MIQU/view?usp=drive_link)\n",
    "- **scGenePT_GO−C** = scGPT + GO Cellular Components Annotations | [Download Link](https://drive.google.com/file/d/17tsBhTkuEw1uwTSvsK9Hskq3px_3MIQU/view?usp=drive_link)\n",
    "\n",
    "Note that models are assumed to be under the `models/finetuned/{dataset_name}/{model_type}/best_model_seed_42.pt` folder\n",
    "\n",
    "\n",
    "**Once the Google Drive files are public, this section should use gdown to automatically download the data under the right folder structure**"
   ]
  },
  {
   "cell_type": "code",
   "execution_count": null,
   "metadata": {},
   "outputs": [],
   "source": [
    "def load_trained_scgenept_model(pert_data, model_type, models_dir, model_location, device, verbose = False):\n",
    "    embs_to_include = get_embs_to_include(model_type)\n",
    "    vocab_file = models_dir + 'pretrained/scgpt/vocab.json'\n",
    "    vocab, gene_ids, dataset_genes, gene2idx = match_genes_to_scgpt_vocab(vocab_file, pert_data, True, SPECIAL_TOKENS)\n",
    "    ntokens = len(vocab)  # size of vocabulary\n",
    "    genept_embs, genept_emb_type, genept_emb_dim, found_genes_genept = initialize_genept_embeddings(embs_to_include, dataset_genes, vocab, model_type, models_dir)\n",
    "    go_embs_to_include, go_emb_type, go_emb_dim, found_genes_go = initialize_go_embeddings(embs_to_include, dataset_genes, vocab, model_type, models_dir)\n",
    "    \n",
    "    model = scGenePT(\n",
    "        ntoken=ntokens,\n",
    "        d_model=EMBSIZE,\n",
    "        nhead=NHEAD,\n",
    "        d_hid=D_HID,\n",
    "        nlayers=NLAYERS,\n",
    "        nlayers_cls=N_LAYERS_CLS,\n",
    "        n_cls=N_CLS,\n",
    "        vocab=vocab,\n",
    "        n_perturbagens=2,\n",
    "        dropout=0.2,\n",
    "        pad_token=PAD_TOKEN,\n",
    "        pad_value=PAD_VALUE,\n",
    "        pert_pad_id=PERT_PAD_ID,\n",
    "        use_fast_transformer=True,\n",
    "        embs_to_include = embs_to_include,\n",
    "        genept_embs = genept_embs, \n",
    "        genept_emb_type = genept_emb_type, \n",
    "        genept_emb_size = genept_emb_dim,\n",
    "        go_embs_to_include = go_embs_to_include,\n",
    "        go_emb_type = go_emb_type,\n",
    "        go_emb_size = go_emb_dim\n",
    "    )\n",
    "    \n",
    "    model.load_state_dict(torch.load(model_location, weights_only=True))\n",
    "    if verbose:\n",
    "        print(model)\n",
    "    model.to(device)\n",
    "    return model, gene_ids"
   ]
  },
  {
   "cell_type": "code",
   "execution_count": null,
   "metadata": {},
   "outputs": [],
   "source": [
    "device = torch.device(\"cuda\" if torch.cuda.is_available() else \"cpu\")\n",
    "print(f'Using device {device}')\n",
    "\n",
    "# Mapping from model name to the name of the model file model weights are saved\n",
    "# Note that if you want to experiment with only one or a couple of models only, not all models need to be downloaded\n",
    "model_name2model_variation = {'scgpt' : 'best_model_seed_42.pt', \n",
    "                    'scgenept_ncbi+uniprot_gpt' : 'best_model_gpt3.5_ada_rnd_seed_42.pt',\n",
    "                    'scgenept_go_c_gpt_concat' : 'best_model_gpt3.5_ada_rnd_seed_42_concat.pt'}\n",
    "\n",
    "# To load all the models, uncomment this code and download the specific models from the GDrive link above\n",
    "# model_name2model_variation = {'scgpt' : 'best_model_seed_42.pt', \n",
    "#                     'scgenept_ncbi_gpt' : 'best_model_gpt3.5_ada_rnd_seed_42.pt',\n",
    "#                     'scgenept_ncbi+uniprot_gpt' : 'best_model_gpt3.5_ada_rnd_seed_42.pt',\n",
    "#                     'scgenept_go_c_gpt_concat' : 'best_model_gpt3.5_ada_rnd_seed_42_concat.pt',\n",
    "#                     'scgenept_go_f_gpt_concat' : 'best_model_gpt3.5_ada_rnd_seed_42_concat.pt',\n",
    "#                     'scgenept_go_p_gpt_concat' : 'best_model_gpt3.5_ada_rnd_seed_42_concat.pt',\n",
    "#                     'scgenept_go_all_gpt_concat' : 'best_model_gpt3.5_ada_rnd_seed_42_concat.pt'}\n",
    "\n",
    "# Names of the scGenePT models to load. Note that these have to match the keys in the model_name2model_variation dict\n",
    "models = ['scgpt',  'scgenept_go_c_gpt_concat', 'scgenept_ncbi+uniprot_gpt']\n",
    "# models = ['scgpt',  'scgenept_go_c_gpt_concat', 'scgenept_go_p_gpt_concat', 'scgenept_go_f_gpt_concat', 'scgenept_go_all_gpt_concat', 'scgenept_ncbi_gpt', 'scgenept_ncbi+uniprot_gpt']\n",
    "trained_models = {}\n",
    "\n",
    "# Location of where the pretrained scGPT model and gene embeddings are located\n",
    "pretrained_scgpt_model_dir = '../models/'\n",
    "\n",
    "for model_name in models:\n",
    "    print(f\"Now loading a {model_name} model ... \")\n",
    "    print('=' * 30)\n",
    "    model_filename = model_name2model_variation[model_name]\n",
    "    if model_name != 'scgpt':\n",
    "        model_prefix = ''.join(model_name.split('_gpt')[:-1]) \n",
    "    else:\n",
    "        model_prefix = model_name\n",
    "    model_location =  f'../models/finetuned/{model_prefix}/{dataset_name}/{model_filename}'\n",
    "    model, gene_ids =  load_trained_scgenept_model(pert_data, model_name, pretrained_scgpt_model_dir, model_location, device)\n",
    "    print('Done!\\n')\n",
    "    trained_models[model_name] = model"
   ]
  },
  {
   "cell_type": "markdown",
   "metadata": {
    "id": "FSyVsAnf5RaD"
   },
   "source": [
    "<a id='plot_top_20_de'></a>\n",
    "## 2. Plot the Top Differentially Expressed Genes post-perturbation\n",
    "We can use the trained models to perform inference. Below, we offer an example of how to do this on the test split of the Norman dataset - this is novel data the model has not been trained on. The same workflow/analyses can be applied to other data to get similar insights. For instance, in the following sections we offer examples of performing inference  on completely new data, either in numpy or anndata form.\n",
    "\n",
    "We explore the following scenarios and showcase how to plot the top differentially expressed genes post-perturbation for: <br>\n",
    "• **single-gene perturbation**: predicting the effects of perturbing the POU3F2 gene and the CDKN1B gene individually. We offer examples of comparing scGPT with scGenePT_GO−C model predictions <br>\n",
    "• **two-gene perturbation**: predicting the effect of perturbing the SAMD1+ZBTB1 genes simultaneously. We offer an example of comparing scGPT and scGenePT_NCBI+UniProt model predictions"
   ]
  },
  {
   "cell_type": "code",
   "execution_count": null,
   "metadata": {},
   "outputs": [],
   "source": [
    "def plot_perturbation(\n",
    "    model: nn.Module, query: str, model_type, color, marker, title, save_file: str = None, amp = True, pool_size: int = None\n",
    "):\n",
    "    import seaborn as sns\n",
    "    import numpy as np\n",
    "    import matplotlib.pyplot as plt\n",
    "\n",
    "    sns.set_theme(style=\"ticks\", rc={\"axes.facecolor\": (0, 0, 0, 0)}, font_scale=1.5)\n",
    "\n",
    "    adata = pert_data.adata\n",
    "    adata_ctrl = adata[adata.obs['condition'] == 'ctrl']\n",
    "    gene_names = pert_data.gene_names.to_list()\n",
    "    \n",
    "    gene2idx = pert_data.node_map\n",
    "    cond2name = dict(adata.obs[[\"condition\", \"condition_name\"]].values)\n",
    "    gene_raw2id = dict(zip(adata.var.index.values, adata.var.gene_name.values))\n",
    "\n",
    "    de_idx = [\n",
    "        gene2idx[gene_raw2id[i]]\n",
    "        for i in adata.uns[\"top_non_zero_de_20\"][cond2name[query]]\n",
    "    ]\n",
    "    genes = [\n",
    "        gene_raw2id[i] for i in adata.uns[\"top_non_zero_de_20\"][cond2name[query]]\n",
    "    ]\n",
    "    truth = adata[adata.obs.condition == query].X.toarray()[:, de_idx]\n",
    "    pred = model.pred_perturb_from_ctrl(adata_ctrl, query, gene_names, device, gene_ids, amp, pool_size).squeeze()[de_idx]\n",
    "    ctrl_means = adata[adata.obs[\"condition\"] == \"ctrl\"].to_df().mean()[de_idx].values\n",
    "\n",
    "    pred = pred - ctrl_means\n",
    "    truth = truth - ctrl_means\n",
    "\n",
    "    plt.figure(figsize=[16.5, 4.5])\n",
    "    plt.title(title + '\\n' + query)\n",
    "    plt.boxplot(truth, showfliers=False, medianprops=dict(linewidth=0))\n",
    "\n",
    "    for i in range(pred.shape[0]):\n",
    "        _ = plt.scatter(i + 1, pred[i], color=color, marker=marker)\n",
    "\n",
    "    plt.axhline(0, linestyle=\"dashed\", color=\"green\")\n",
    "\n",
    "    ax = plt.gca()\n",
    "    ax.xaxis.set_ticklabels(genes, rotation=90)\n",
    "\n",
    "    plt.ylabel(\"Change in Gene Expression over Control\", labelpad=10)\n",
    "    plt.tick_params(axis=\"x\", which=\"major\", pad=5)\n",
    "    plt.tick_params(axis=\"y\", which=\"major\", pad=5)\n",
    "    sns.despine()"
   ]
  },
  {
   "cell_type": "markdown",
   "metadata": {},
   "source": [
    "Before we perform predictions, we can explore the test split of the Norman dataset in more detail. We are interested in this split, because this is data that the model has not seen during training. So performance on this split gives us a sense of model performance on unseen data. The `pert_data.subgroup` object contains information about the set of perturbations present in each of the train/val/test splits, and each can be explored in more detail. For example, the perturbation types in the test set are split into the following categories: \n",
    "- **unseen_single**: single gene perturbations that have not been seen during training\n",
    "- **combo_seen0**: two-gene perturbations, none of the genes has been seen perturbed (individually or as part of a combination) during training \n",
    "- **combo_seen1**: two-gene perturbations, one of the genes has been seen perturbed (individually or as part of a combination) during training\n",
    "- **combo_seen2**: two-gene perturbations, both genes has been seen perturbed (individually or as part of a combination) during training"
   ]
  },
  {
   "cell_type": "code",
   "execution_count": null,
   "metadata": {},
   "outputs": [],
   "source": [
    "pert_data.subgroup['test_subgroup'].keys()\n",
    "\n",
    "unseen_single = pert_data.subgroup['test_subgroup']['unseen_single']\n",
    "combo_seen0 = pert_data.subgroup['test_subgroup']['combo_seen0']\n",
    "combo_seen1 = pert_data.subgroup['test_subgroup']['combo_seen1']\n",
    "combo_seen2 = pert_data.subgroup['test_subgroup']['combo_seen2']\n",
    "\n",
    "print(f'unseen_single: {len(unseen_single)}, combo_seen0: {len(combo_seen0)}, combo_seen1: {len(combo_seen1)}, combo_seen2: {len(combo_seen2)}')"
   ]
  },
  {
   "cell_type": "markdown",
   "metadata": {},
   "source": [
    "Examples of combinations of genes where none of the genes has been seen during training:"
   ]
  },
  {
   "cell_type": "code",
   "execution_count": null,
   "metadata": {},
   "outputs": [],
   "source": [
    "combo_seen0"
   ]
  },
  {
   "cell_type": "markdown",
   "metadata": {},
   "source": [
    "<a id='example_POU3F2+ctrl'></a>\n",
    "### Single-Gene Perturbation: Predicting perturbation response for perturbing the POU3F2 gene\n",
    "\n",
    "Then we can start exploring prediction on some of these perturbation categories. In the example below, we compare the perturbation prediction responses of scGPT and scGenePT_GO-C - scGPT + GO Cellular Components Annotations by perturbing the POU2F2 gene. Note that this gene has not been seen perturbed during training by the model. We do this by sampling n = 300 random controls from the training dataset and taking the mean of the average prediction for each control. According to NCBI Gene Card https://www.ncbi.nlm.nih.gov/gene/5454, overexpression of the protein encoded by POU3F2 is associated with an increase in the proliferation of melanoma cells. We can see that the genes FABP5, HSP90AB1, PRDX1, NPM1, TMSB10, PTMA are all better predicted as having a negative fold change over control by scGenePTGO−C, compared to scGPT which predicts a non-significant effect. "
   ]
  },
  {
   "cell_type": "code",
   "execution_count": null,
   "metadata": {},
   "outputs": [],
   "source": [
    "pert = 'POU3F2+ctrl'\n",
    "colors = ['fuchsia', 'blue', 'red']\n",
    "marker_types = [ 'o','s', 'x']\n",
    "models_to_compare = ['scgpt', 'scgenept_go_c_gpt_concat']\n",
    "\n",
    "for model, color, marker_type, title  in zip(models_to_compare, colors, marker_types, ['scGPT', 'scGenePT_GO-C']):\n",
    "    plot_perturbation(trained_models[model], pert, model, color, marker_type, title, amp = True, pool_size=300)"
   ]
  },
  {
   "cell_type": "markdown",
   "metadata": {},
   "source": [
    "We can inspect the GO Gene Annotations that were used for this gene during training. If you don't already have the GO annotations downloaded, they can be retrieved from [here](https://drive.google.com/drive/folders/1NrRfw5-N0GAZSOQ5EBI5xRL7dj3doHZP?usp=drive_link)"
   ]
  },
  {
   "cell_type": "code",
   "execution_count": null,
   "metadata": {},
   "outputs": [],
   "source": [
    "import pandas as pd\n",
    "gene_annotations_dir = '../models/gene_embeddings/gene_annotations/'\n",
    "\n",
    "#GO-C Cellular Component Annotations\n",
    "GO_C_annotations_df = pd.read_csv(gene_annotations_dir + 'gene_ontology_C.csv')\n",
    "#GO-P Biological Process Annotations\n",
    "GO_P_annotations_df = pd.read_csv(gene_annotations_dir + 'gene_ontology_P.csv')\n",
    "#GO-F Molecular Function Annotations\n",
    "GO_F_annotations_df = pd.read_csv(gene_annotations_dir + 'gene_ontology_F.csv')"
   ]
  },
  {
   "cell_type": "markdown",
   "metadata": {},
   "source": [
    "For example, we can look at the GO-C Cellular Components annotations for the POU3F2 gene:"
   ]
  },
  {
   "cell_type": "code",
   "execution_count": null,
   "metadata": {},
   "outputs": [],
   "source": [
    "GO_C_annotations_df[GO_C_annotations_df['gene'] == 'POU3F2']"
   ]
  },
  {
   "cell_type": "markdown",
   "metadata": {},
   "source": [
    "By adding the GO Cellular Component annotations, the model learns that this gene is localized mostly in: nucleoplasm, chromatin and transcription regulator complex. Localization of gene products in the cell plays an important role in their biological function, e.g. protein-protein interaction; regulation of gene expression, transportation of protein. This tells us that subcellular localization is helpful in being able to predict effects of perturbation of this gene."
   ]
  },
  {
   "cell_type": "markdown",
   "metadata": {},
   "source": [
    "<a id='#example_CDKN1B+ctrl'></a>\n",
    "### Single-Gene Perturbation: Predicting perturbation response for perturbing the CDKN1B gene\n",
    "We can do this analysis for other genes as well. For example, the CDKN1B gene is another gene that has not been seen perturbed during training. According to this gene’s NCBI Gene Card https://www.ncbi.nlm.nih.gov/gene/1027, mutations in this gene are associated with multiple enodcrine neoplasia type IV. We can see that scGenePTGO−C predicts HSP90AA1, PTMA, RANBP1, CKS1B, PRDX1, PHF19 and NME1 as correctly down-regulated, as opposed to scGPT which predicts either neutral effect or positive fold change. Similarly, we speculate that the model learns to incorporate cellular location information to better predict gene expression change in response to genetic perturbation."
   ]
  },
  {
   "cell_type": "code",
   "execution_count": null,
   "metadata": {},
   "outputs": [],
   "source": [
    "pert = 'CDKN1B+ctrl'\n",
    "colors = ['fuchsia', 'blue']\n",
    "marker_types = [ 'o','s']\n",
    "models_to_compare = ['scgpt', 'scgenept_go_c_gpt_concat']\n",
    "\n",
    "for model, color, marker_type, title  in zip(models_to_compare, colors, marker_types, ['scGPT', 'scGenePT_GO-C']):\n",
    "    plot_perturbation(trained_models[model], pert, model, color, marker_type, title, amp = True, pool_size=300)"
   ]
  },
  {
   "cell_type": "markdown",
   "metadata": {},
   "source": [
    "We can see that the subcellular localization annotations that the model sees during training for the CDK1NB gene are:"
   ]
  },
  {
   "cell_type": "code",
   "execution_count": null,
   "metadata": {},
   "outputs": [],
   "source": [
    "GO_C_annotations_df[GO_C_annotations_df['gene'] == 'CDKN1B']"
   ]
  },
  {
   "cell_type": "markdown",
   "metadata": {},
   "source": [
    "We speculate that having access to this information during training is helping the model make better predictions on the effect of perturbing this gene."
   ]
  },
  {
   "cell_type": "markdown",
   "metadata": {},
   "source": [
    "<a id='#example_SAMD1+ZBTB1'></a>\n",
    "### Two-gene Perturbation: Predicting perturbation response for perturbing the gene combination FOXA1+FOXL2\n",
    "\n",
    "We can also look at effects of combination of genes. Below, we offer an example of predicting perturbation responses for the FOXA1+FOXL2 gene combination. <br>\n",
    "Note that you can experiment with different gene combinations in **combo_seen0, combo_seen1**, or **combo_seen2**"
   ]
  },
  {
   "cell_type": "code",
   "execution_count": null,
   "metadata": {},
   "outputs": [],
   "source": [
    "pert = 'FOXA1+FOXL2'\n",
    "colors = ['fuchsia', 'green']\n",
    "marker_types = [ 'o', 's', 's']\n",
    "models_to_compare = ['scgpt', 'scgenept_ncbi+uniprot_gpt']\n",
    "\n",
    "for model, color, marker_type, title  in zip(models_to_compare, colors, marker_types, ['scGPT', 'scGenePT_NCBI+UniProt']):\n",
    "    plot_perturbation(trained_models[model], pert, model, color, marker_type, title, amp = True, pool_size=300)"
   ]
  },
  {
   "cell_type": "markdown",
   "metadata": {},
   "source": [
    "Similarly, we can look at the NCBI and UniProt annotations for the genes:"
   ]
  },
  {
   "cell_type": "code",
   "execution_count": null,
   "metadata": {},
   "outputs": [],
   "source": [
    "# NCBI Gene Card Annotations\n",
    "NCBI_gene_card_summaries = json.load(open(gene_annotations_dir + 'NCBI_summary_of_genes.json', 'rb'))\n",
    "# NCBI Gene Card + UniProt protein summaries Annotations\n",
    "NCBI_UniProt_gene_card_protein_summaries = json.load(open(gene_annotations_dir + 'NCBI_UniProt_summary_of_genes.json', 'rb'))\n",
    "\n",
    "comb_genes = pert.split('+')\n",
    "for gene in comb_genes:\n",
    "    print(f\"Annotations for GENE: {gene}\")\n",
    "    print('='*30)\n",
    "    print(f\"NCBI Gene Card Summary: {NCBI_gene_card_summaries[gene]}\")\n",
    "    print('\\n')\n",
    "    print(f\"NCBI Gene Card + UniProt Protein Summary: {NCBI_UniProt_gene_card_protein_summaries[gene]}\")\n",
    "    print('\\n')"
   ]
  },
  {
   "cell_type": "markdown",
   "metadata": {},
   "source": [
    "<a id='predicting_on_rnd_ctrl'></a>\n",
    "## 3. Predicting on numpy arrays holding control samples\n",
    "\n",
    "We can make predictions on various data formats. Let's say we have a control sample held in a numpy array. We can use one of the trained models to make predictions. <br> \n",
    "For example, let's use the scGenePT-GO-C model trained on Norman. First, we need to load the trained model: "
   ]
  },
  {
   "cell_type": "code",
   "execution_count": null,
   "metadata": {},
   "outputs": [],
   "source": [
    "model_name = 'scgenept_go_c_gpt_concat'\n",
    "dataset_name = 'norman' \n",
    "pert_data = load_dataloader(dataset_name, batch_size = 64, val_batch_size = 64, split = 'simulation')\n",
    "\n",
    "model_filename = model_name2model_variation[model_name]\n",
    "model_location =  f'../models/finetuned/scgenept_go_c/{dataset_name}/{model_filename}'\n",
    "model, gene_ids =  load_trained_scgenept_model(pert_data, model_name, pretrained_scgpt_model_dir, model_location, device, verbose = False)"
   ]
  },
  {
   "cell_type": "markdown",
   "metadata": {},
   "source": [
    "Let's say we have a control sample in a np array and we want to predict the effect of perturbing the **FOSB** gene. Note that in the example below, the order of the genes in the ctrl_sample would have to match the one in gene_names of the dataset that the model was trained on. Otherwise, additional gene name matching should be made."
   ]
  },
  {
   "cell_type": "code",
   "execution_count": null,
   "metadata": {},
   "outputs": [],
   "source": [
    "gene_names = pert_data.gene_names.to_list()\n",
    "print(f'There are {len(gene_names)} genes, the first 10 are: {gene_names[:10]}')"
   ]
  },
  {
   "cell_type": "code",
   "execution_count": null,
   "metadata": {},
   "outputs": [],
   "source": [
    "pert = \"FOSB+ctrl\"\n",
    "ctrl_sample = np.random.rand(5045) # this can be replaced with a different control sample, as long as the order of the gene matches"
   ]
  },
  {
   "cell_type": "markdown",
   "metadata": {},
   "source": [
    "Then we need to assign the correct perturbation flags in the control sequence, so that the model knows what gene should get perturbed"
   ]
  },
  {
   "cell_type": "code",
   "execution_count": null,
   "metadata": {},
   "outputs": [],
   "source": [
    "def get_pert_flags(ctrl_sample, gene_names, pert):\n",
    "    pert_flags = np.zeros(len(ctrl_sample))\n",
    "    if pert!= 'ctrl':\n",
    "        for x in pert.split('+'):\n",
    "            if x != 'ctrl':\n",
    "                pert_flags[gene_names.index(x)] = 1\n",
    "    pert_flags = torch.from_numpy(pert_flags).long().to(device).unsqueeze(0)\n",
    "    return pert_flags\n",
    "\n",
    "pert_flags = get_pert_flags(ctrl_sample, gene_names, pert)"
   ]
  },
  {
   "cell_type": "markdown",
   "metadata": {},
   "source": [
    "Then we can get the model predictions by calling the model in inference mode:"
   ]
  },
  {
   "cell_type": "code",
   "execution_count": null,
   "metadata": {},
   "outputs": [],
   "source": [
    "def pred_ctrl_sample(model, gene_ids, ctrl_sample, pert_flags, device):\n",
    "    ctrl_sample = torch.from_numpy(np.expand_dims(ctrl_sample, 0)).to(dtype = torch.float32).to(device)\n",
    "    gene_ids_tensor = torch.tensor(gene_ids).long().unsqueeze(0).to(device)\n",
    "    src_key_padding_mask = torch.zeros_like(gene_ids_tensor, dtype=torch.bool, device=device)\n",
    "    model = model.to(torch.float32)\n",
    "    with torch.cuda.amp.autocast(enabled=True):\n",
    "        with torch.no_grad():\n",
    "            output_dict = model(\n",
    "                gene_ids_tensor,\n",
    "                ctrl_sample,\n",
    "                pert_flags,\n",
    "                src_key_padding_mask=src_key_padding_mask,\n",
    "                CLS=False,\n",
    "                CCE=False,\n",
    "                MVC=False,\n",
    "                ECS=False,\n",
    "                do_sample=True,\n",
    "            )\n",
    "    prediction = output_dict[\"mlm_output\"].float().detach().cpu().numpy()\n",
    "    return prediction"
   ]
  },
  {
   "cell_type": "code",
   "execution_count": null,
   "metadata": {},
   "outputs": [],
   "source": [
    "preds = pred_ctrl_sample(model, gene_ids, ctrl_sample, pert_flags, device)"
   ]
  },
  {
   "cell_type": "code",
   "execution_count": null,
   "metadata": {},
   "outputs": [],
   "source": [
    "preds"
   ]
  },
  {
   "cell_type": "code",
   "execution_count": null,
   "metadata": {},
   "outputs": [],
   "source": [
    "preds.shape"
   ]
  },
  {
   "cell_type": "markdown",
   "metadata": {},
   "source": [
    "<a id='prediction_on_new_anndata_file'></a>\n",
    "## 4. Predicting on AnnData files\n",
    "We can follow a similar sequence to predict on an `AnnData` file. Note that in the example below, you can replace the `adata_ctrl` file with your file of choice:"
   ]
  },
  {
   "cell_type": "code",
   "execution_count": null,
   "metadata": {},
   "outputs": [],
   "source": [
    "pert_adata = pert_data.adata\n",
    "adata_ctrl = pert_adata[pert_adata.obs['condition'] == 'ctrl'][:100] # this can be any other AnnData file\n",
    "adata_ctrl"
   ]
  },
  {
   "cell_type": "markdown",
   "metadata": {},
   "source": [
    "Note that the set and order of the genes in the AnnData file would have to match that of the genes the model has been trained on. In most cases, this will mean filtering the data to match this. The 5045 genes used by the model are:"
   ]
  },
  {
   "cell_type": "code",
   "execution_count": null,
   "metadata": {},
   "outputs": [],
   "source": [
    "adata_ctrl.var"
   ]
  },
  {
   "cell_type": "markdown",
   "metadata": {},
   "source": [
    "Each of them will correspond to a value in `adata_ctrl.X`:"
   ]
  },
  {
   "cell_type": "code",
   "execution_count": null,
   "metadata": {},
   "outputs": [],
   "source": [
    "adata_ctrl.X # an entry (i, j) corresponds to the value of gene j in cell i; the 5045 genes must match to the list above"
   ]
  },
  {
   "cell_type": "markdown",
   "metadata": {},
   "source": [
    "Using similarly the model loaded above to generate predictions for perturbing a particular gene perturbation X:"
   ]
  },
  {
   "cell_type": "code",
   "execution_count": null,
   "metadata": {},
   "outputs": [],
   "source": [
    "gene_pert = 'CEBPB+ctrl'\n",
    "\n",
    "ctrl_size = None # Note that if this is != None, then the ctrl samples will get randomly sampled.\n",
    "return_mean = False # If this is True, then the mean of the predictions will get returned\n",
    "preds = model.pred_perturb_from_ctrl(adata_ctrl, gene_pert, gene_names, device, gene_ids, pool_size = ctrl_size, return_mean = False).squeeze()"
   ]
  },
  {
   "cell_type": "code",
   "execution_count": null,
   "metadata": {},
   "outputs": [],
   "source": [
    "preds"
   ]
  },
  {
   "cell_type": "code",
   "execution_count": null,
   "metadata": {},
   "outputs": [],
   "source": [
    "preds.shape"
   ]
  },
  {
   "cell_type": "markdown",
   "metadata": {},
   "source": [
    "We can then assign the predictions to the anndata file:"
   ]
  },
  {
   "cell_type": "code",
   "execution_count": null,
   "metadata": {},
   "outputs": [],
   "source": [
    "adata_ctrl.layers[f'{model_name}_predictions'] = preds"
   ]
  },
  {
   "cell_type": "code",
   "execution_count": null,
   "metadata": {},
   "outputs": [],
   "source": [
    "adata_ctrl"
   ]
  },
  {
   "cell_type": "markdown",
   "metadata": {
    "id": "JWfXZ535yKi3"
   },
   "source": [
    "<a id='contact'></a>\n",
    "## Contact & Feedback\n",
    "\n",
    "Ana-Maria Istrate, aistrate@chanzuckerberg.com"
   ]
  },
  {
   "cell_type": "markdown",
   "metadata": {
    "id": "R3jdy9WHyO8Z"
   },
   "source": [
    "## References\n",
    "\n",
    "1. Norman, Thomas M., et al. \"Exploring genetic interaction manifolds constructed from rich single-cell phenotypes.\" Science 365.6455 (2019): 786-793.\n",
    "2. Cui, Haotian, et al. \"scGPT: toward building a foundation model for single-cell multi-omics using generative AI.\" Nature Methods (2024): 1-11.\n",
    "3. Chen, Yiqun, and James Zou. \"GenePT: a simple but effective foundation model for genes and cells built from ChatGPT.\" bioRxiv (2024): 2023-10.\n",
    "4. Roohani, Yusuf, Kexin Huang, and Jure Leskovec. \"Predicting transcriptional outcomes of novel multigene perturbations with GEARS.\" Nature Biotechnology 42.6 (2024): 927-935."
   ]
  }
 ],
 "metadata": {
  "colab": {
   "provenance": []
  },
  "kernelspec": {
   "display_name": "scgenept-new",
   "language": "python",
   "name": "scgenept-new"
  },
  "language_info": {
   "codemirror_mode": {
    "name": "ipython",
    "version": 3
   },
   "file_extension": ".py",
   "mimetype": "text/x-python",
   "name": "python",
   "nbconvert_exporter": "python",
   "pygments_lexer": "ipython3",
   "version": "3.10.14"
  }
 },
 "nbformat": 4,
 "nbformat_minor": 4
}
